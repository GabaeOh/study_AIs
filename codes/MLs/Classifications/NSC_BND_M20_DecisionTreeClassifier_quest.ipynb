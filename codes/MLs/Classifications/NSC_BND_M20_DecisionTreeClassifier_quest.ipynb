{
 "cells": [
  {
   "cell_type": "markdown",
   "id": "c8ea2928-3e39-417a-a75b-b2192256da6f",
   "metadata": {},
   "source": [
    "## quest\n",
    "- NSC_BND_M20 연속형 데이터 사용 \n",
    "- 목표변수:SICK_SYM1, 설명변수 5개 사용\n",
    "- DecisionTreeClassifier 전처리, 학습, 평가\n",
    "- option : SICK_SYM1 항목은 8개만 선택"
   ]
  },
  {
   "cell_type": "markdown",
   "id": "3b12c21b-1ed5-43d6-a1cb-5df3b4564eff",
   "metadata": {},
   "source": [
    "## 지도학습  "
   ]
  },
  {
   "cell_type": "markdown",
   "id": "785b4fc0-776a-48cc-95ee-a515aa7bd38a",
   "metadata": {},
   "source": [
    "#### 분류 - 다항분류\n",
    "- 목적변수의 범주가 2개 이상인것 "
   ]
  },
  {
   "cell_type": "code",
   "execution_count": 1,
   "id": "9ebb2608-f9e2-404a-95ff-12ee0463edc8",
   "metadata": {
    "tags": []
   },
   "outputs": [],
   "source": [
    "import pymongo as mg\n",
    "import pandas as pd "
   ]
  },
  {
   "cell_type": "code",
   "execution_count": 2,
   "id": "a3d8251c-4792-49ee-bfc5-fe6a6febff6d",
   "metadata": {
    "tags": []
   },
   "outputs": [
    {
     "data": {
      "text/html": [
       "<div>\n",
       "<style scoped>\n",
       "    .dataframe tbody tr th:only-of-type {\n",
       "        vertical-align: middle;\n",
       "    }\n",
       "\n",
       "    .dataframe tbody tr th {\n",
       "        vertical-align: top;\n",
       "    }\n",
       "\n",
       "    .dataframe thead th {\n",
       "        text-align: right;\n",
       "    }\n",
       "</style>\n",
       "<table border=\"1\" class=\"dataframe\">\n",
       "  <thead>\n",
       "    <tr style=\"text-align: right;\">\n",
       "      <th></th>\n",
       "      <th>_id</th>\n",
       "      <th>RN_INDI</th>\n",
       "      <th>BTH_YYYY</th>\n",
       "      <th>DTH_YYYYMM</th>\n",
       "      <th>COD1</th>\n",
       "      <th>COD2</th>\n",
       "      <th>RN_KEY</th>\n",
       "      <th>RN_INST</th>\n",
       "      <th>MDCARE_STRT_DT</th>\n",
       "      <th>FORM_CD</th>\n",
       "      <th>...</th>\n",
       "      <th>OPRTN_YN</th>\n",
       "      <th>MDCARE_DD_CNT</th>\n",
       "      <th>VSHSP_DD_CNT</th>\n",
       "      <th>TOT_PRSC_DD_CNT</th>\n",
       "      <th>MCARE_RSLT_TYPE</th>\n",
       "      <th>EDC_ADD_RT</th>\n",
       "      <th>ED_RC_TOT_AMT</th>\n",
       "      <th>EDC_SBA</th>\n",
       "      <th>EDC_INSUR_BRDN_AMT</th>\n",
       "      <th>STD_YYYY</th>\n",
       "    </tr>\n",
       "  </thead>\n",
       "  <tbody>\n",
       "    <tr>\n",
       "      <th>0</th>\n",
       "      <td>64e6bbca5b6c745c7e44d61f</td>\n",
       "      <td>294364</td>\n",
       "      <td>1921LE</td>\n",
       "      <td>200707.0</td>\n",
       "      <td>T08-T14</td>\n",
       "      <td>W00-W19</td>\n",
       "      <td>2002080298703</td>\n",
       "      <td>26452</td>\n",
       "      <td>20020830</td>\n",
       "      <td>3</td>\n",
       "      <td>...</td>\n",
       "      <td>0</td>\n",
       "      <td>1</td>\n",
       "      <td>1</td>\n",
       "      <td>3</td>\n",
       "      <td>5.0</td>\n",
       "      <td>0.15</td>\n",
       "      <td>10590</td>\n",
       "      <td>3000</td>\n",
       "      <td>7590</td>\n",
       "      <td>2002</td>\n",
       "    </tr>\n",
       "    <tr>\n",
       "      <th>1</th>\n",
       "      <td>64e6bbca5b6c745c7e44d620</td>\n",
       "      <td>294364</td>\n",
       "      <td>1921LE</td>\n",
       "      <td>200707.0</td>\n",
       "      <td>T08-T14</td>\n",
       "      <td>W00-W19</td>\n",
       "      <td>2002090466395</td>\n",
       "      <td>63715</td>\n",
       "      <td>20020910</td>\n",
       "      <td>3</td>\n",
       "      <td>...</td>\n",
       "      <td>0</td>\n",
       "      <td>1</td>\n",
       "      <td>1</td>\n",
       "      <td>2</td>\n",
       "      <td>5.0</td>\n",
       "      <td>0.15</td>\n",
       "      <td>16520</td>\n",
       "      <td>4950</td>\n",
       "      <td>11570</td>\n",
       "      <td>2002</td>\n",
       "    </tr>\n",
       "  </tbody>\n",
       "</table>\n",
       "<p>2 rows × 23 columns</p>\n",
       "</div>"
      ],
      "text/plain": [
       "                        _id  RN_INDI BTH_YYYY  DTH_YYYYMM     COD1     COD2  \\\n",
       "0  64e6bbca5b6c745c7e44d61f   294364   1921LE    200707.0  T08-T14  W00-W19   \n",
       "1  64e6bbca5b6c745c7e44d620   294364   1921LE    200707.0  T08-T14  W00-W19   \n",
       "\n",
       "          RN_KEY  RN_INST  MDCARE_STRT_DT  FORM_CD  ...  OPRTN_YN  \\\n",
       "0  2002080298703    26452        20020830        3  ...         0   \n",
       "1  2002090466395    63715        20020910        3  ...         0   \n",
       "\n",
       "  MDCARE_DD_CNT VSHSP_DD_CNT  TOT_PRSC_DD_CNT  MCARE_RSLT_TYPE  EDC_ADD_RT  \\\n",
       "0             1            1                3              5.0        0.15   \n",
       "1             1            1                2              5.0        0.15   \n",
       "\n",
       "   ED_RC_TOT_AMT  EDC_SBA  EDC_INSUR_BRDN_AMT  STD_YYYY  \n",
       "0          10590     3000                7590      2002  \n",
       "1          16520     4950               11570      2002  \n",
       "\n",
       "[2 rows x 23 columns]"
      ]
     },
     "execution_count": 2,
     "metadata": {},
     "output_type": "execute_result"
    }
   ],
   "source": [
    "client = mg.MongoClient(host='mongodb://localhost:27017')\n",
    "database = client['db_NHIS'] #Database 선택\n",
    "collection = database['Join Collection NSC2_BND_M20'] # collection 선택\n",
    "cursor = collection.find({})\n",
    "list_M20 = list(cursor) # casting\n",
    "df_M20 = pd.DataFrame(list_M20) \n",
    "df_M20[:2]"
   ]
  },
  {
   "cell_type": "code",
   "execution_count": 3,
   "id": "80e120fa-a088-4e88-828d-330d4c37a1a3",
   "metadata": {
    "tags": []
   },
   "outputs": [],
   "source": [
    "df_M20.to_csv('../../../datasets/Join Collection NSC2_BND_M20.csv') "
   ]
  },
  {
   "cell_type": "markdown",
   "id": "0995306c-f15f-4811-b07a-46fab3f0fefa",
   "metadata": {},
   "source": [
    "#### 전처리\n",
    "- 목표변수 : 'SICK_SYM1'\n",
    "- 설명변수 : 'OPRTN_YN','TOT_PRSC_DD_CNT','ED_RC_TOT_AMT', 'EDC_SBA', 'EDC_INSUR_BRDN_AMT'"
   ]
  },
  {
   "cell_type": "code",
   "execution_count": 4,
   "id": "fd8432ed-c534-4c77-885b-c3cc4f904ab3",
   "metadata": {
    "tags": []
   },
   "outputs": [
    {
     "data": {
      "text/plain": [
       "Index(['_id', 'RN_INDI', 'BTH_YYYY', 'DTH_YYYYMM', 'COD1', 'COD2', 'RN_KEY',\n",
       "       'RN_INST', 'MDCARE_STRT_DT', 'FORM_CD', 'MCARE_SUBJ_CD', 'SICK_SYM1',\n",
       "       'OFIJ_TYPE', 'OPRTN_YN', 'MDCARE_DD_CNT', 'VSHSP_DD_CNT',\n",
       "       'TOT_PRSC_DD_CNT', 'MCARE_RSLT_TYPE', 'EDC_ADD_RT', 'ED_RC_TOT_AMT',\n",
       "       'EDC_SBA', 'EDC_INSUR_BRDN_AMT', 'STD_YYYY'],\n",
       "      dtype='object')"
      ]
     },
     "execution_count": 4,
     "metadata": {},
     "output_type": "execute_result"
    }
   ],
   "source": [
    "df_M20.columns"
   ]
  },
  {
   "cell_type": "code",
   "execution_count": 5,
   "id": "868e2c85-d92b-4562-adc4-1fa2a904f5d5",
   "metadata": {
    "tags": []
   },
   "outputs": [
    {
     "name": "stdout",
     "output_type": "stream",
     "text": [
      "<class 'pandas.core.frame.DataFrame'>\n",
      "RangeIndex: 137163 entries, 0 to 137162\n",
      "Data columns (total 23 columns):\n",
      " #   Column              Non-Null Count   Dtype  \n",
      "---  ------              --------------   -----  \n",
      " 0   _id                 137163 non-null  object \n",
      " 1   RN_INDI             137163 non-null  int64  \n",
      " 2   BTH_YYYY            137163 non-null  object \n",
      " 3   DTH_YYYYMM          10269 non-null   float64\n",
      " 4   COD1                8473 non-null    object \n",
      " 5   COD2                998 non-null     object \n",
      " 6   RN_KEY              137163 non-null  int64  \n",
      " 7   RN_INST             137163 non-null  int64  \n",
      " 8   MDCARE_STRT_DT      137163 non-null  int64  \n",
      " 9   FORM_CD             137163 non-null  int64  \n",
      " 10  MCARE_SUBJ_CD       137163 non-null  int64  \n",
      " 11  SICK_SYM1           137163 non-null  object \n",
      " 12  OFIJ_TYPE           134428 non-null  object \n",
      " 13  OPRTN_YN            137163 non-null  int64  \n",
      " 14  MDCARE_DD_CNT       137163 non-null  int64  \n",
      " 15  VSHSP_DD_CNT        137163 non-null  int64  \n",
      " 16  TOT_PRSC_DD_CNT     137163 non-null  int64  \n",
      " 17  MCARE_RSLT_TYPE     133958 non-null  float64\n",
      " 18  EDC_ADD_RT          137163 non-null  float64\n",
      " 19  ED_RC_TOT_AMT       137163 non-null  int64  \n",
      " 20  EDC_SBA             137163 non-null  int64  \n",
      " 21  EDC_INSUR_BRDN_AMT  137163 non-null  int64  \n",
      " 22  STD_YYYY            137163 non-null  int64  \n",
      "dtypes: float64(3), int64(14), object(6)\n",
      "memory usage: 24.1+ MB\n"
     ]
    }
   ],
   "source": [
    "df_M20.info()"
   ]
  },
  {
   "cell_type": "code",
   "execution_count": 6,
   "id": "d744f19b-da0b-4631-9256-ede3cc4d5d43",
   "metadata": {
    "tags": []
   },
   "outputs": [
    {
     "data": {
      "text/plain": [
       "SICK_SYM1             0\n",
       "OPRTN_YN              0\n",
       "TOT_PRSC_DD_CNT       0\n",
       "ED_RC_TOT_AMT         0\n",
       "EDC_SBA               0\n",
       "EDC_INSUR_BRDN_AMT    0\n",
       "dtype: int64"
      ]
     },
     "execution_count": 6,
     "metadata": {},
     "output_type": "execute_result"
    }
   ],
   "source": [
    "df_M20_extract = df_M20[['SICK_SYM1','OPRTN_YN','TOT_PRSC_DD_CNT','ED_RC_TOT_AMT', 'EDC_SBA', 'EDC_INSUR_BRDN_AMT']]\n",
    "df_M20_extract.isnull().sum()"
   ]
  },
  {
   "cell_type": "code",
   "execution_count": 7,
   "id": "6189f5f6-874e-431a-86a8-95d90a9af6e4",
   "metadata": {
    "tags": []
   },
   "outputs": [
    {
     "data": {
      "text/plain": [
       "J209     8244\n",
       "I10      4629\n",
       "I109     3275\n",
       "F_       3203\n",
       "N_       3177\n",
       "         ... \n",
       "H700        1\n",
       "E058        1\n",
       "M5397       1\n",
       "T18         1\n",
       "P289        1\n",
       "Name: SICK_SYM1, Length: 3414, dtype: int64"
      ]
     },
     "execution_count": 7,
     "metadata": {},
     "output_type": "execute_result"
    }
   ],
   "source": [
    "df_M20_extract['SICK_SYM1'].value_counts()"
   ]
  },
  {
   "cell_type": "code",
   "execution_count": 8,
   "id": "0dc145ad-266d-491f-ae30-50c527b94a28",
   "metadata": {
    "tags": []
   },
   "outputs": [],
   "source": [
    "# df_M20_extract['SICK_SYM1'] = df_M20_extract['SICK_SYM1'].sort_values().iloc[:8]\n",
    "# df_M20_extract = df_M20_extract[df_M20_extract['SICK_SYM1'].isin(df_M20_extract['SICK_SYM1'].value_counts().index)]\n",
    "#### 8개만 뽑아올려다가 실패...."
   ]
  },
  {
   "cell_type": "code",
   "execution_count": 9,
   "id": "65d95742-3b61-45dd-812f-c0f21229531b",
   "metadata": {
    "tags": []
   },
   "outputs": [],
   "source": [
    "import re"
   ]
  },
  {
   "cell_type": "code",
   "execution_count": 10,
   "id": "ecaf65d0-c277-467d-ad06-1484d0dd1f7d",
   "metadata": {
    "tags": []
   },
   "outputs": [],
   "source": [
    "# 알파벳을 숫자로 변환하는 함수 정의\n",
    "def alphabet_to_number(s):\n",
    "    result = \"\"\n",
    "    for char in s:\n",
    "        if re.match(r'[A-Za-z]', char):\n",
    "            result += str(ord(char) - ord('A') + 1)\n",
    "        else:\n",
    "            result += char\n",
    "    return result"
   ]
  },
  {
   "cell_type": "code",
   "execution_count": 11,
   "id": "93c4fae1-cc0a-4ac3-89cc-12064f24a50f",
   "metadata": {
    "tags": []
   },
   "outputs": [
    {
     "name": "stderr",
     "output_type": "stream",
     "text": [
      "C:\\Users\\02-19\\AppData\\Local\\Temp\\ipykernel_7820\\734954482.py:2: SettingWithCopyWarning: \n",
      "A value is trying to be set on a copy of a slice from a DataFrame.\n",
      "Try using .loc[row_indexer,col_indexer] = value instead\n",
      "\n",
      "See the caveats in the documentation: https://pandas.pydata.org/pandas-docs/stable/user_guide/indexing.html#returning-a-view-versus-a-copy\n",
      "  df_M20_extract['SICK_SYM1_tonumber'] = df_M20_extract['SICK_SYM1'].apply(alphabet_to_number)\n"
     ]
    },
    {
     "data": {
      "text/plain": [
       "0         12028\n",
       "1         10030\n",
       "2         10030\n",
       "3         11291\n",
       "4         13545\n",
       "          ...  \n",
       "137158    10209\n",
       "137159    10209\n",
       "137160    10209\n",
       "137161    10209\n",
       "137162     1000\n",
       "Name: SICK_SYM1_tonumber, Length: 137163, dtype: object"
      ]
     },
     "execution_count": 11,
     "metadata": {},
     "output_type": "execute_result"
    }
   ],
   "source": [
    "# 'SICK_SYM1' 컬럼에 적용하여 알파벳을 숫자로 변환\n",
    "df_M20_extract['SICK_SYM1_tonumber'] = df_M20_extract['SICK_SYM1'].apply(alphabet_to_number)\n",
    "df_M20_extract['SICK_SYM1_tonumber']"
   ]
  },
  {
   "cell_type": "code",
   "execution_count": null,
   "id": "f18ddcd5-515a-4c52-8cc5-87bc8ec54db9",
   "metadata": {
    "tags": []
   },
   "outputs": [],
   "source": [
    "df_M20_extract['SICK_SYM1_tonumber'].value_counts()"
   ]
  },
  {
   "cell_type": "markdown",
   "id": "b7b1891a-9ef6-4c83-9339-c6f5474abcc3",
   "metadata": {},
   "source": [
    "#### 정형화 "
   ]
  },
  {
   "cell_type": "code",
   "execution_count": 12,
   "id": "316e5200-e032-4165-8e40-c237a8dfdbd5",
   "metadata": {
    "tags": []
   },
   "outputs": [
    {
     "data": {
      "text/plain": [
       "((137163,), (137163, 5))"
      ]
     },
     "execution_count": 12,
     "metadata": {},
     "output_type": "execute_result"
    }
   ],
   "source": [
    "target_SICK = df_M20_extract['SICK_SYM1_tonumber'] #목표변수 \n",
    "features_SICK = df_M20_extract.drop(columns=['SICK_SYM1_tonumber','SICK_SYM1']) #설명변수 \n",
    "target_SICK.shape, features_SICK.shape"
   ]
  },
  {
   "cell_type": "markdown",
   "id": "f18071d0-d0aa-4428-a033-1e7aae0d28a3",
   "metadata": {},
   "source": [
    "#### 모델학습"
   ]
  },
  {
   "cell_type": "code",
   "execution_count": 13,
   "id": "af532a85-956e-4d3e-8fb5-82b67c04c9ea",
   "metadata": {
    "tags": []
   },
   "outputs": [
    {
     "data": {
      "text/html": [
       "<style>#sk-container-id-1 {color: black;background-color: white;}#sk-container-id-1 pre{padding: 0;}#sk-container-id-1 div.sk-toggleable {background-color: white;}#sk-container-id-1 label.sk-toggleable__label {cursor: pointer;display: block;width: 100%;margin-bottom: 0;padding: 0.3em;box-sizing: border-box;text-align: center;}#sk-container-id-1 label.sk-toggleable__label-arrow:before {content: \"▸\";float: left;margin-right: 0.25em;color: #696969;}#sk-container-id-1 label.sk-toggleable__label-arrow:hover:before {color: black;}#sk-container-id-1 div.sk-estimator:hover label.sk-toggleable__label-arrow:before {color: black;}#sk-container-id-1 div.sk-toggleable__content {max-height: 0;max-width: 0;overflow: hidden;text-align: left;background-color: #f0f8ff;}#sk-container-id-1 div.sk-toggleable__content pre {margin: 0.2em;color: black;border-radius: 0.25em;background-color: #f0f8ff;}#sk-container-id-1 input.sk-toggleable__control:checked~div.sk-toggleable__content {max-height: 200px;max-width: 100%;overflow: auto;}#sk-container-id-1 input.sk-toggleable__control:checked~label.sk-toggleable__label-arrow:before {content: \"▾\";}#sk-container-id-1 div.sk-estimator input.sk-toggleable__control:checked~label.sk-toggleable__label {background-color: #d4ebff;}#sk-container-id-1 div.sk-label input.sk-toggleable__control:checked~label.sk-toggleable__label {background-color: #d4ebff;}#sk-container-id-1 input.sk-hidden--visually {border: 0;clip: rect(1px 1px 1px 1px);clip: rect(1px, 1px, 1px, 1px);height: 1px;margin: -1px;overflow: hidden;padding: 0;position: absolute;width: 1px;}#sk-container-id-1 div.sk-estimator {font-family: monospace;background-color: #f0f8ff;border: 1px dotted black;border-radius: 0.25em;box-sizing: border-box;margin-bottom: 0.5em;}#sk-container-id-1 div.sk-estimator:hover {background-color: #d4ebff;}#sk-container-id-1 div.sk-parallel-item::after {content: \"\";width: 100%;border-bottom: 1px solid gray;flex-grow: 1;}#sk-container-id-1 div.sk-label:hover label.sk-toggleable__label {background-color: #d4ebff;}#sk-container-id-1 div.sk-serial::before {content: \"\";position: absolute;border-left: 1px solid gray;box-sizing: border-box;top: 0;bottom: 0;left: 50%;z-index: 0;}#sk-container-id-1 div.sk-serial {display: flex;flex-direction: column;align-items: center;background-color: white;padding-right: 0.2em;padding-left: 0.2em;position: relative;}#sk-container-id-1 div.sk-item {position: relative;z-index: 1;}#sk-container-id-1 div.sk-parallel {display: flex;align-items: stretch;justify-content: center;background-color: white;position: relative;}#sk-container-id-1 div.sk-item::before, #sk-container-id-1 div.sk-parallel-item::before {content: \"\";position: absolute;border-left: 1px solid gray;box-sizing: border-box;top: 0;bottom: 0;left: 50%;z-index: -1;}#sk-container-id-1 div.sk-parallel-item {display: flex;flex-direction: column;z-index: 1;position: relative;background-color: white;}#sk-container-id-1 div.sk-parallel-item:first-child::after {align-self: flex-end;width: 50%;}#sk-container-id-1 div.sk-parallel-item:last-child::after {align-self: flex-start;width: 50%;}#sk-container-id-1 div.sk-parallel-item:only-child::after {width: 0;}#sk-container-id-1 div.sk-dashed-wrapped {border: 1px dashed gray;margin: 0 0.4em 0.5em 0.4em;box-sizing: border-box;padding-bottom: 0.4em;background-color: white;}#sk-container-id-1 div.sk-label label {font-family: monospace;font-weight: bold;display: inline-block;line-height: 1.2em;}#sk-container-id-1 div.sk-label-container {text-align: center;}#sk-container-id-1 div.sk-container {/* jupyter's `normalize.less` sets `[hidden] { display: none; }` but bootstrap.min.css set `[hidden] { display: none !important; }` so we also need the `!important` here to be able to override the default hidden behavior on the sphinx rendered scikit-learn.org. See: https://github.com/scikit-learn/scikit-learn/issues/21755 */display: inline-block !important;position: relative;}#sk-container-id-1 div.sk-text-repr-fallback {display: none;}</style><div id=\"sk-container-id-1\" class=\"sk-top-container\"><div class=\"sk-text-repr-fallback\"><pre>DecisionTreeClassifier()</pre><b>In a Jupyter environment, please rerun this cell to show the HTML representation or trust the notebook. <br />On GitHub, the HTML representation is unable to render, please try loading this page with nbviewer.org.</b></div><div class=\"sk-container\" hidden><div class=\"sk-item\"><div class=\"sk-estimator sk-toggleable\"><input class=\"sk-toggleable__control sk-hidden--visually\" id=\"sk-estimator-id-1\" type=\"checkbox\" checked><label for=\"sk-estimator-id-1\" class=\"sk-toggleable__label sk-toggleable__label-arrow\">DecisionTreeClassifier</label><div class=\"sk-toggleable__content\"><pre>DecisionTreeClassifier()</pre></div></div></div></div></div>"
      ],
      "text/plain": [
       "DecisionTreeClassifier()"
      ]
     },
     "execution_count": 13,
     "metadata": {},
     "output_type": "execute_result"
    }
   ],
   "source": [
    "from sklearn.tree import DecisionTreeClassifier\n",
    "model = DecisionTreeClassifier() #인스턴스화 \n",
    "model.fit(features_SICK, target_SICK) #모델 훈련"
   ]
  },
  {
   "cell_type": "code",
   "execution_count": 14,
   "id": "6703e231-bc25-4b9f-830a-697f2aa27a56",
   "metadata": {
    "tags": []
   },
   "outputs": [],
   "source": [
    "import matplotlib.pyplot as plt\n",
    "from sklearn.tree import plot_tree"
   ]
  },
  {
   "cell_type": "code",
   "execution_count": 15,
   "id": "69642bb4-5b4f-478d-98e6-de22a529d785",
   "metadata": {
    "tags": []
   },
   "outputs": [
    {
     "data": {
      "text/plain": [
       "['OPRTN_YN',\n",
       " 'TOT_PRSC_DD_CNT',\n",
       " 'ED_RC_TOT_AMT',\n",
       " 'EDC_SBA',\n",
       " 'EDC_INSUR_BRDN_AMT']"
      ]
     },
     "execution_count": 15,
     "metadata": {},
     "output_type": "execute_result"
    }
   ],
   "source": [
    "features_SICK.columns.to_list()"
   ]
  },
  {
   "cell_type": "code",
   "execution_count": null,
   "id": "eec21a3f-aa81-40f1-b6e3-851f594651de",
   "metadata": {
    "tags": []
   },
   "outputs": [],
   "source": [
    "plot_tree(model, feature_names=features_SICK.columns.to_list(), filled=True) # filled=True\n",
    "plt.show()"
   ]
  },
  {
   "cell_type": "markdown",
   "id": "db51c2d1-f3c7-44d5-acfc-a24093937179",
   "metadata": {},
   "source": [
    "#### 평가"
   ]
  },
  {
   "cell_type": "code",
   "execution_count": 20,
   "id": "eeca86a2-0f75-41b9-a904-a29511f3ed80",
   "metadata": {
    "tags": []
   },
   "outputs": [
    {
     "data": {
      "text/plain": [
       "137163"
      ]
     },
     "execution_count": 20,
     "metadata": {},
     "output_type": "execute_result"
    }
   ],
   "source": [
    "target_prdict = model.predict(features_SICK)  #설명변수를 통해 목저변수의 값을 예측\n",
    "len(target_prdict)"
   ]
  },
  {
   "cell_type": "code",
   "execution_count": 22,
   "id": "60cdd1cc-f195-49b9-80e7-6d74acffffa6",
   "metadata": {
    "tags": []
   },
   "outputs": [
    {
     "data": {
      "text/plain": [
       "0.5907278201847437"
      ]
     },
     "execution_count": 22,
     "metadata": {},
     "output_type": "execute_result"
    }
   ],
   "source": [
    "from sklearn.metrics import accuracy_score\n",
    "accuracy_score(target_SICK, target_prdict) #실제값과 예측한 값을 비교를 통해 잘 예측했는지 평가"
   ]
  },
  {
   "cell_type": "code",
   "execution_count": null,
   "id": "996cbadd-4364-4657-94e1-38b4400554e4",
   "metadata": {},
   "outputs": [],
   "source": []
  }
 ],
 "metadata": {
  "kernelspec": {
   "display_name": "Python 3 (ipykernel)",
   "language": "python",
   "name": "python3"
  },
  "language_info": {
   "codemirror_mode": {
    "name": "ipython",
    "version": 3
   },
   "file_extension": ".py",
   "mimetype": "text/x-python",
   "name": "python",
   "nbconvert_exporter": "python",
   "pygments_lexer": "ipython3",
   "version": "3.11.3"
  }
 },
 "nbformat": 4,
 "nbformat_minor": 5
}
