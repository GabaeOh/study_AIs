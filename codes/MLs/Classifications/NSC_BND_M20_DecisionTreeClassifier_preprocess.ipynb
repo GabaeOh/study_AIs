{
 "cells": [
  {
   "cell_type": "markdown",
   "id": "c8ea2928-3e39-417a-a75b-b2192256da6f",
   "metadata": {},
   "source": [
    "## quest\n",
    "- NSC_BND_M20 연속형 데이터 사용 \n",
    "- 목표변수:SICK_SYM1, 설명변수 5개 사용\n",
    "- DecisionTreeClassifier 전처리, 학습, 평가\n",
    "- option : SICK_SYM1 항목은 8개만 선택"
   ]
  },
  {
   "cell_type": "markdown",
   "id": "3b12c21b-1ed5-43d6-a1cb-5df3b4564eff",
   "metadata": {},
   "source": [
    "## 지도학습  "
   ]
  },
  {
   "cell_type": "markdown",
   "id": "785b4fc0-776a-48cc-95ee-a515aa7bd38a",
   "metadata": {},
   "source": [
    "#### 분류 - 다항분류\n",
    "- 목적변수의 범주가 2개 이상인것 "
   ]
  },
  {
   "cell_type": "code",
   "execution_count": 1,
   "id": "9ebb2608-f9e2-404a-95ff-12ee0463edc8",
   "metadata": {
    "tags": []
   },
   "outputs": [],
   "source": [
    "import pymongo as mg\n",
    "import pandas as pd "
   ]
  },
  {
   "cell_type": "code",
   "execution_count": 5,
   "id": "a3d8251c-4792-49ee-bfc5-fe6a6febff6d",
   "metadata": {
    "tags": []
   },
   "outputs": [
    {
     "data": {
      "text/html": [
       "<div>\n",
       "<style scoped>\n",
       "    .dataframe tbody tr th:only-of-type {\n",
       "        vertical-align: middle;\n",
       "    }\n",
       "\n",
       "    .dataframe tbody tr th {\n",
       "        vertical-align: top;\n",
       "    }\n",
       "\n",
       "    .dataframe thead th {\n",
       "        text-align: right;\n",
       "    }\n",
       "</style>\n",
       "<table border=\"1\" class=\"dataframe\">\n",
       "  <thead>\n",
       "    <tr style=\"text-align: right;\">\n",
       "      <th></th>\n",
       "      <th>_id</th>\n",
       "      <th>RN_INDI</th>\n",
       "      <th>BTH_YYYY</th>\n",
       "      <th>DTH_YYYYMM</th>\n",
       "      <th>COD1</th>\n",
       "      <th>COD2</th>\n",
       "      <th>RN_KEY</th>\n",
       "      <th>RN_INST</th>\n",
       "      <th>MDCARE_STRT_DT</th>\n",
       "      <th>FORM_CD</th>\n",
       "      <th>...</th>\n",
       "      <th>OPRTN_YN</th>\n",
       "      <th>MDCARE_DD_CNT</th>\n",
       "      <th>VSHSP_DD_CNT</th>\n",
       "      <th>TOT_PRSC_DD_CNT</th>\n",
       "      <th>MCARE_RSLT_TYPE</th>\n",
       "      <th>EDC_ADD_RT</th>\n",
       "      <th>ED_RC_TOT_AMT</th>\n",
       "      <th>EDC_SBA</th>\n",
       "      <th>EDC_INSUR_BRDN_AMT</th>\n",
       "      <th>STD_YYYY</th>\n",
       "    </tr>\n",
       "  </thead>\n",
       "  <tbody>\n",
       "    <tr>\n",
       "      <th>0</th>\n",
       "      <td>64e6bbca5b6c745c7e44d61f</td>\n",
       "      <td>294364</td>\n",
       "      <td>1921LE</td>\n",
       "      <td>200707.0</td>\n",
       "      <td>T08-T14</td>\n",
       "      <td>W00-W19</td>\n",
       "      <td>2002080298703</td>\n",
       "      <td>26452</td>\n",
       "      <td>20020830</td>\n",
       "      <td>3</td>\n",
       "      <td>...</td>\n",
       "      <td>0</td>\n",
       "      <td>1</td>\n",
       "      <td>1</td>\n",
       "      <td>3</td>\n",
       "      <td>5.0</td>\n",
       "      <td>0.15</td>\n",
       "      <td>10590</td>\n",
       "      <td>3000</td>\n",
       "      <td>7590</td>\n",
       "      <td>2002</td>\n",
       "    </tr>\n",
       "    <tr>\n",
       "      <th>1</th>\n",
       "      <td>64e6bbca5b6c745c7e44d620</td>\n",
       "      <td>294364</td>\n",
       "      <td>1921LE</td>\n",
       "      <td>200707.0</td>\n",
       "      <td>T08-T14</td>\n",
       "      <td>W00-W19</td>\n",
       "      <td>2002090466395</td>\n",
       "      <td>63715</td>\n",
       "      <td>20020910</td>\n",
       "      <td>3</td>\n",
       "      <td>...</td>\n",
       "      <td>0</td>\n",
       "      <td>1</td>\n",
       "      <td>1</td>\n",
       "      <td>2</td>\n",
       "      <td>5.0</td>\n",
       "      <td>0.15</td>\n",
       "      <td>16520</td>\n",
       "      <td>4950</td>\n",
       "      <td>11570</td>\n",
       "      <td>2002</td>\n",
       "    </tr>\n",
       "  </tbody>\n",
       "</table>\n",
       "<p>2 rows × 23 columns</p>\n",
       "</div>"
      ],
      "text/plain": [
       "                        _id  RN_INDI BTH_YYYY  DTH_YYYYMM     COD1     COD2  \\\n",
       "0  64e6bbca5b6c745c7e44d61f   294364   1921LE    200707.0  T08-T14  W00-W19   \n",
       "1  64e6bbca5b6c745c7e44d620   294364   1921LE    200707.0  T08-T14  W00-W19   \n",
       "\n",
       "          RN_KEY  RN_INST  MDCARE_STRT_DT  FORM_CD  ...  OPRTN_YN  \\\n",
       "0  2002080298703    26452        20020830        3  ...         0   \n",
       "1  2002090466395    63715        20020910        3  ...         0   \n",
       "\n",
       "  MDCARE_DD_CNT VSHSP_DD_CNT  TOT_PRSC_DD_CNT  MCARE_RSLT_TYPE  EDC_ADD_RT  \\\n",
       "0             1            1                3              5.0        0.15   \n",
       "1             1            1                2              5.0        0.15   \n",
       "\n",
       "   ED_RC_TOT_AMT  EDC_SBA  EDC_INSUR_BRDN_AMT  STD_YYYY  \n",
       "0          10590     3000                7590      2002  \n",
       "1          16520     4950               11570      2002  \n",
       "\n",
       "[2 rows x 23 columns]"
      ]
     },
     "execution_count": 5,
     "metadata": {},
     "output_type": "execute_result"
    }
   ],
   "source": [
    "client = mg.MongoClient(host='mongodb://localhost:27017')\n",
    "database = client['db_NHIS'] #Database 선택\n",
    "collection = database['Join Collection NSC2_BND_M20'] # collection 선택\n",
    "cursor = collection.find({})\n",
    "list_M20 = list(cursor) # casting\n",
    "df_BND_M20 = pd.DataFrame(list_M20) \n",
    "df_BND_M20[:2]"
   ]
  },
  {
   "cell_type": "code",
   "execution_count": 6,
   "id": "80e120fa-a088-4e88-828d-330d4c37a1a3",
   "metadata": {
    "tags": []
   },
   "outputs": [],
   "source": [
    "df_BND_M20.to_csv('../../../datasets/Join Collection NSC2_BND_M20.csv') "
   ]
  },
  {
   "cell_type": "markdown",
   "id": "0995306c-f15f-4811-b07a-46fab3f0fefa",
   "metadata": {},
   "source": [
    "#### 전처리\n",
    "- 목표변수 : 'SICK_SYM1'\n",
    "- 설명변수 : 'OPRTN_YN','TOT_PRSC_DD_CNT','ED_RC_TOT_AMT', 'EDC_SBA', 'EDC_INSUR_BRDN_AMT'"
   ]
  },
  {
   "cell_type": "code",
   "execution_count": 8,
   "id": "aaf05d23-8f70-4cb1-966f-ab3b0ce3b8c8",
   "metadata": {
    "tags": []
   },
   "outputs": [
    {
     "data": {
      "text/plain": [
       "J209     8244\n",
       "I10      4629\n",
       "I109     3275\n",
       "F_       3203\n",
       "N_       3177\n",
       "         ... \n",
       "H700        1\n",
       "E058        1\n",
       "M5397       1\n",
       "T18         1\n",
       "P289        1\n",
       "Name: SICK_SYM1, Length: 3414, dtype: int64"
      ]
     },
     "execution_count": 8,
     "metadata": {},
     "output_type": "execute_result"
    }
   ],
   "source": [
    "df_BND_M20['SICK_SYM1'].value_counts()"
   ]
  },
  {
   "cell_type": "code",
   "execution_count": 7,
   "id": "fd8432ed-c534-4c77-885b-c3cc4f904ab3",
   "metadata": {
    "tags": []
   },
   "outputs": [
    {
     "data": {
      "text/plain": [
       "Index(['_id', 'RN_INDI', 'BTH_YYYY', 'DTH_YYYYMM', 'COD1', 'COD2', 'RN_KEY',\n",
       "       'RN_INST', 'MDCARE_STRT_DT', 'FORM_CD', 'MCARE_SUBJ_CD', 'SICK_SYM1',\n",
       "       'OFIJ_TYPE', 'OPRTN_YN', 'MDCARE_DD_CNT', 'VSHSP_DD_CNT',\n",
       "       'TOT_PRSC_DD_CNT', 'MCARE_RSLT_TYPE', 'EDC_ADD_RT', 'ED_RC_TOT_AMT',\n",
       "       'EDC_SBA', 'EDC_INSUR_BRDN_AMT', 'STD_YYYY'],\n",
       "      dtype='object')"
      ]
     },
     "execution_count": 7,
     "metadata": {},
     "output_type": "execute_result"
    }
   ],
   "source": [
    "df_BND_M20.columns"
   ]
  },
  {
   "cell_type": "code",
   "execution_count": null,
   "id": "868e2c85-d92b-4562-adc4-1fa2a904f5d5",
   "metadata": {
    "tags": []
   },
   "outputs": [],
   "source": [
    "df_M20.info()"
   ]
  },
  {
   "cell_type": "code",
   "execution_count": null,
   "id": "d744f19b-da0b-4631-9256-ede3cc4d5d43",
   "metadata": {
    "tags": []
   },
   "outputs": [],
   "source": [
    "df_M20_extract = df_M20[['SICK_SYM1','OPRTN_YN','TOT_PRSC_DD_CNT','ED_RC_TOT_AMT', 'EDC_SBA', 'EDC_INSUR_BRDN_AMT']]\n",
    "df_M20_extract.isnull().sum()"
   ]
  },
  {
   "cell_type": "code",
   "execution_count": null,
   "id": "6189f5f6-874e-431a-86a8-95d90a9af6e4",
   "metadata": {
    "tags": []
   },
   "outputs": [],
   "source": [
    "# df_M20_extract['SICK_SYM1'].value_counts()\n",
    "df_M20_extract['SICK_SYM1'].value_counts().iloc[:8]"
   ]
  },
  {
   "cell_type": "code",
   "execution_count": null,
   "id": "4edee9fe-69d4-48e8-9ac4-ed5773762ff9",
   "metadata": {
    "tags": []
   },
   "outputs": [],
   "source": [
    "selected_values = df_M20_extract['SICK_SYM1'].value_counts().iloc[:8].index"
   ]
  },
  {
   "cell_type": "code",
   "execution_count": null,
   "id": "0dc145ad-266d-491f-ae30-50c527b94a28",
   "metadata": {
    "tags": []
   },
   "outputs": [],
   "source": [
    "df_M20_extract = df_M20_extract[df_M20_extract['SICK_SYM1'].isin(selected_values)]\n",
    "df_M20_extract[:2]"
   ]
  },
  {
   "cell_type": "code",
   "execution_count": null,
   "id": "65d95742-3b61-45dd-812f-c0f21229531b",
   "metadata": {
    "tags": []
   },
   "outputs": [],
   "source": [
    "import re"
   ]
  },
  {
   "cell_type": "code",
   "execution_count": null,
   "id": "ecaf65d0-c277-467d-ad06-1484d0dd1f7d",
   "metadata": {
    "tags": []
   },
   "outputs": [],
   "source": [
    "# 알파벳을 숫자로 변환하는 함수 정의\n",
    "def alphabet_to_number(s):\n",
    "    result = \"\"\n",
    "    for char in s:\n",
    "        if re.match(r'[A-Za-z]', char):\n",
    "            result += str(ord(char) - ord('A') + 1)\n",
    "        else:\n",
    "            result += char\n",
    "    return result"
   ]
  },
  {
   "cell_type": "code",
   "execution_count": null,
   "id": "2c7cc71d-c18e-40ac-9365-237db7191833",
   "metadata": {
    "tags": []
   },
   "outputs": [],
   "source": [
    "# 'SICK_SYM1' 컬럼에 적용하여 알파벳을 숫자로 변환\n",
    "df_M20_extract['SICK_SYM1_tonumber'] = df_M20_extract['SICK_SYM1'].apply(alphabet_to_number)\n",
    "df_M20_extract['SICK_SYM1_tonumber']"
   ]
  },
  {
   "cell_type": "code",
   "execution_count": null,
   "id": "0b903ba5-12b9-49d8-a29e-7d69ddc98d1c",
   "metadata": {
    "tags": []
   },
   "outputs": [],
   "source": [
    "# 숫자만 추출하는 함수 정의\n",
    "def extract_numbers(s):\n",
    "    numbers = re.findall(r'\\d+', s)\n",
    "    return ''.join(numbers)"
   ]
  },
  {
   "cell_type": "code",
   "execution_count": null,
   "id": "b5e03d94-fa94-4b70-b60e-866192fef5dc",
   "metadata": {
    "tags": []
   },
   "outputs": [],
   "source": [
    "# apply 함수를 사용하여 숫자만 추출하여 새로운 컬럼 생성\n",
    "df_M20_extract['SICK_SYM1_numbers'] = df_M20_extract['SICK_SYM1_tonumber'].apply(extract_numbers)\n",
    "df_M20_extract['SICK_SYM1_numbers']"
   ]
  },
  {
   "cell_type": "markdown",
   "id": "b7b1891a-9ef6-4c83-9339-c6f5474abcc3",
   "metadata": {},
   "source": [
    "#### 정형화 "
   ]
  },
  {
   "cell_type": "code",
   "execution_count": null,
   "id": "316e5200-e032-4165-8e40-c237a8dfdbd5",
   "metadata": {
    "tags": []
   },
   "outputs": [],
   "source": [
    "target_SICK = df_M20_extract['SICK_SYM1_numbers'] #목표변수 \n",
    "features_SICK = df_M20_extract.drop(columns=['SICK_SYM1_tonumber','SICK_SYM1','SICK_SYM1_numbers']) #설명변수 \n",
    "target_SICK.shape, features_SICK.shape"
   ]
  },
  {
   "cell_type": "markdown",
   "id": "f18071d0-d0aa-4428-a033-1e7aae0d28a3",
   "metadata": {},
   "source": [
    "#### 모델학습"
   ]
  },
  {
   "cell_type": "code",
   "execution_count": null,
   "id": "af532a85-956e-4d3e-8fb5-82b67c04c9ea",
   "metadata": {
    "tags": []
   },
   "outputs": [],
   "source": [
    "from sklearn.tree import DecisionTreeClassifier\n",
    "model = DecisionTreeClassifier() #인스턴스화 \n",
    "model.fit(features_SICK, target_SICK) #모델 훈련"
   ]
  },
  {
   "cell_type": "code",
   "execution_count": null,
   "id": "6703e231-bc25-4b9f-830a-697f2aa27a56",
   "metadata": {
    "tags": []
   },
   "outputs": [],
   "source": [
    "import matplotlib.pyplot as plt\n",
    "from sklearn.tree import plot_tree"
   ]
  },
  {
   "cell_type": "code",
   "execution_count": null,
   "id": "69642bb4-5b4f-478d-98e6-de22a529d785",
   "metadata": {
    "tags": []
   },
   "outputs": [],
   "source": [
    "features_SICK.columns.to_list()"
   ]
  },
  {
   "cell_type": "code",
   "execution_count": null,
   "id": "55fc2a29-158e-4244-8549-f300056b0eee",
   "metadata": {
    "tags": []
   },
   "outputs": [],
   "source": [
    "plot_tree(model, feature_names=features_SICK.columns.to_list(), filled=True) # filled=True\n",
    "plt.show()"
   ]
  },
  {
   "cell_type": "markdown",
   "id": "db51c2d1-f3c7-44d5-acfc-a24093937179",
   "metadata": {},
   "source": [
    "#### 평가"
   ]
  },
  {
   "cell_type": "code",
   "execution_count": null,
   "id": "996cbadd-4364-4657-94e1-38b4400554e4",
   "metadata": {},
   "outputs": [],
   "source": [
    "target_prdict = model.predict(features_SICK)  #설명변수를 통해 목저변수의 값을 예측\n",
    "len(target_prdict)"
   ]
  },
  {
   "cell_type": "code",
   "execution_count": null,
   "id": "9b311d0e-571f-48df-a9c4-d2af362c4500",
   "metadata": {
    "tags": []
   },
   "outputs": [],
   "source": [
    "from sklearn.metrics import accuracy_score\n",
    "accuracy_score(target_SICK, target_prdict) #실제값과 예측한 값을 비교를 통해 잘 예측했는지 평가"
   ]
  },
  {
   "cell_type": "code",
   "execution_count": null,
   "id": "19ca2976-7da0-4990-844a-c3838c14593e",
   "metadata": {},
   "outputs": [],
   "source": []
  }
 ],
 "metadata": {
  "kernelspec": {
   "display_name": "Python 3 (ipykernel)",
   "language": "python",
   "name": "python3"
  },
  "language_info": {
   "codemirror_mode": {
    "name": "ipython",
    "version": 3
   },
   "file_extension": ".py",
   "mimetype": "text/x-python",
   "name": "python",
   "nbconvert_exporter": "python",
   "pygments_lexer": "ipython3",
   "version": "3.11.3"
  }
 },
 "nbformat": 4,
 "nbformat_minor": 5
}
