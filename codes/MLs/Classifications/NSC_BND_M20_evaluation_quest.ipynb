{
 "cells": [
  {
   "cell_type": "markdown",
   "id": "c8ea2928-3e39-417a-a75b-b2192256da6f",
   "metadata": {},
   "source": [
    "## quest\n",
    "- NSC_BND_M20 대상(from mongo)\n",
    "- 목표변수 : 범주형, 설명변수 : 5개 선택\n",
    "- train_test_split() 이용\n",
    "- classification_report() 사용(각각 train, test set) 평가 의견 첨부\n",
    "- option : NSC_BND_M20_preprocss.ipynb 이용가능"
   ]
  },
  {
   "cell_type": "markdown",
   "id": "f2078c8d-1bc0-443a-88ad-175046685da9",
   "metadata": {},
   "source": [
    "## 평가의견 \n",
    "- accuracy_score(정확도) : 교육한 값(target_train)은 0.917 / 교육한 값을 토대로 시험한 값(target_test)은 0.923으로 예측률이 높음 / 데이터에 대한 예측이 의미가 있음\n",
    "- precision_score(정밀도) : 0.9178 / 모델이 양성으로 예측한 케이스 중에서 실제로 양성인 비율이 높다는 것을 의미\n",
    "- recall_score(재현율) : 0.9178 / 모델이 실제 양성 중에서 약 91.78%를 올바르게 감지하여 양성으로 예측했다는 것을 의미\n",
    "- F1_SCORE : 0.9178/ 높은 값으로, 정밀도와 민감도의 균형을 이루었져 있음을 확인함.\n",
    "- precision_score, recall_score , f1_score 이 모두 0.9178로 동일한 값 :  모델의 예측 결과의 불균형이 크지 않음 /즉, 모델이 양성과 음성 클래스를 비슷한 비율로 정확하게 예측함\n",
    "\n",
    "    - 목적변수인 '"
   ]
  },
  {
   "cell_type": "markdown",
   "id": "cde1c3f6-3041-4edf-baa4-838c00af3ac8",
   "metadata": {},
   "source": [
    "### 평가 수치에 관한 해석 \n",
    "- accuracy_score(정확도) 값이 0.85보다 높아야 데이터의 의미가 있음\n",
    "- 정밀도가 높을수록 모델이 양성으로 예측한 결과가 실제로 양성인 경우가 많다는 것을 나타냅니다. 양성 클래스에 대한 정밀도가 높다는 것을 나타냅니다.\n",
    "- recall_score(재현율):  모델이 실제 양성 데이터를 놓치지 않고 잘 포착하는 능력\n",
    "- \"f1_score\"정밀도와 민감도의 균형을 측정하는 지표\n",
    "    - 양성(Positive)은 분석 대상이 되는 특정 클래스나 상황을 나타내며, 음성(Negative)은 해당 클래스나 상황이 아닌 것을 나타냅니다"
   ]
  },
  {
   "cell_type": "markdown",
   "id": "3b12c21b-1ed5-43d6-a1cb-5df3b4564eff",
   "metadata": {},
   "source": [
    "## 지도학습  "
   ]
  },
  {
   "cell_type": "markdown",
   "id": "785b4fc0-776a-48cc-95ee-a515aa7bd38a",
   "metadata": {},
   "source": [
    "#### 분류 - 다항분류\n",
    "- 목적변수의 범주가 2개 이상인것 "
   ]
  },
  {
   "cell_type": "code",
   "execution_count": 59,
   "id": "9ebb2608-f9e2-404a-95ff-12ee0463edc8",
   "metadata": {
    "tags": []
   },
   "outputs": [],
   "source": [
    "import pymongo as mg\n",
    "import pandas as pd "
   ]
  },
  {
   "cell_type": "code",
   "execution_count": 60,
   "id": "a3d8251c-4792-49ee-bfc5-fe6a6febff6d",
   "metadata": {
    "tags": []
   },
   "outputs": [
    {
     "data": {
      "text/html": [
       "<div>\n",
       "<style scoped>\n",
       "    .dataframe tbody tr th:only-of-type {\n",
       "        vertical-align: middle;\n",
       "    }\n",
       "\n",
       "    .dataframe tbody tr th {\n",
       "        vertical-align: top;\n",
       "    }\n",
       "\n",
       "    .dataframe thead th {\n",
       "        text-align: right;\n",
       "    }\n",
       "</style>\n",
       "<table border=\"1\" class=\"dataframe\">\n",
       "  <thead>\n",
       "    <tr style=\"text-align: right;\">\n",
       "      <th></th>\n",
       "      <th>_id</th>\n",
       "      <th>RN_INDI</th>\n",
       "      <th>BTH_YYYY</th>\n",
       "      <th>DTH_YYYYMM</th>\n",
       "      <th>COD1</th>\n",
       "      <th>COD2</th>\n",
       "      <th>RN_KEY</th>\n",
       "      <th>RN_INST</th>\n",
       "      <th>MDCARE_STRT_DT</th>\n",
       "      <th>FORM_CD</th>\n",
       "      <th>...</th>\n",
       "      <th>OPRTN_YN</th>\n",
       "      <th>MDCARE_DD_CNT</th>\n",
       "      <th>VSHSP_DD_CNT</th>\n",
       "      <th>TOT_PRSC_DD_CNT</th>\n",
       "      <th>MCARE_RSLT_TYPE</th>\n",
       "      <th>EDC_ADD_RT</th>\n",
       "      <th>ED_RC_TOT_AMT</th>\n",
       "      <th>EDC_SBA</th>\n",
       "      <th>EDC_INSUR_BRDN_AMT</th>\n",
       "      <th>STD_YYYY</th>\n",
       "    </tr>\n",
       "  </thead>\n",
       "  <tbody>\n",
       "    <tr>\n",
       "      <th>0</th>\n",
       "      <td>64e6bbca5b6c745c7e44d61f</td>\n",
       "      <td>294364</td>\n",
       "      <td>1921LE</td>\n",
       "      <td>200707.0</td>\n",
       "      <td>T08-T14</td>\n",
       "      <td>W00-W19</td>\n",
       "      <td>2002080298703</td>\n",
       "      <td>26452</td>\n",
       "      <td>20020830</td>\n",
       "      <td>3</td>\n",
       "      <td>...</td>\n",
       "      <td>0</td>\n",
       "      <td>1</td>\n",
       "      <td>1</td>\n",
       "      <td>3</td>\n",
       "      <td>5.0</td>\n",
       "      <td>0.15</td>\n",
       "      <td>10590</td>\n",
       "      <td>3000</td>\n",
       "      <td>7590</td>\n",
       "      <td>2002</td>\n",
       "    </tr>\n",
       "    <tr>\n",
       "      <th>1</th>\n",
       "      <td>64e6bbca5b6c745c7e44d620</td>\n",
       "      <td>294364</td>\n",
       "      <td>1921LE</td>\n",
       "      <td>200707.0</td>\n",
       "      <td>T08-T14</td>\n",
       "      <td>W00-W19</td>\n",
       "      <td>2002090466395</td>\n",
       "      <td>63715</td>\n",
       "      <td>20020910</td>\n",
       "      <td>3</td>\n",
       "      <td>...</td>\n",
       "      <td>0</td>\n",
       "      <td>1</td>\n",
       "      <td>1</td>\n",
       "      <td>2</td>\n",
       "      <td>5.0</td>\n",
       "      <td>0.15</td>\n",
       "      <td>16520</td>\n",
       "      <td>4950</td>\n",
       "      <td>11570</td>\n",
       "      <td>2002</td>\n",
       "    </tr>\n",
       "  </tbody>\n",
       "</table>\n",
       "<p>2 rows × 23 columns</p>\n",
       "</div>"
      ],
      "text/plain": [
       "                        _id  RN_INDI BTH_YYYY  DTH_YYYYMM     COD1     COD2  \\\n",
       "0  64e6bbca5b6c745c7e44d61f   294364   1921LE    200707.0  T08-T14  W00-W19   \n",
       "1  64e6bbca5b6c745c7e44d620   294364   1921LE    200707.0  T08-T14  W00-W19   \n",
       "\n",
       "          RN_KEY  RN_INST  MDCARE_STRT_DT  FORM_CD  ...  OPRTN_YN  \\\n",
       "0  2002080298703    26452        20020830        3  ...         0   \n",
       "1  2002090466395    63715        20020910        3  ...         0   \n",
       "\n",
       "  MDCARE_DD_CNT VSHSP_DD_CNT  TOT_PRSC_DD_CNT  MCARE_RSLT_TYPE  EDC_ADD_RT  \\\n",
       "0             1            1                3              5.0        0.15   \n",
       "1             1            1                2              5.0        0.15   \n",
       "\n",
       "   ED_RC_TOT_AMT  EDC_SBA  EDC_INSUR_BRDN_AMT  STD_YYYY  \n",
       "0          10590     3000                7590      2002  \n",
       "1          16520     4950               11570      2002  \n",
       "\n",
       "[2 rows x 23 columns]"
      ]
     },
     "execution_count": 60,
     "metadata": {},
     "output_type": "execute_result"
    }
   ],
   "source": [
    "client = mg.MongoClient(host='mongodb://localhost:27017')\n",
    "database = client['db_NHIS'] #Database 선택\n",
    "collection = database['Join Collection NSC2_BND_M20'] # collection 선택\n",
    "cursor = collection.find({})\n",
    "list_M20 = list(cursor) # casting\n",
    "df_BND_M20 = pd.DataFrame(list_M20) \n",
    "df_BND_M20[:2]"
   ]
  },
  {
   "cell_type": "markdown",
   "id": "0995306c-f15f-4811-b07a-46fab3f0fefa",
   "metadata": {},
   "source": [
    "#### 전처리\n",
    "- 목표변수 : 'SICK_SYM1'\n",
    "- 설명변수 : 'OPRTN_YN','TOT_PRSC_DD_CNT','ED_RC_TOT_AMT', 'EDC_SBA', 'EDC_INSUR_BRDN_AMT'"
   ]
  },
  {
   "cell_type": "code",
   "execution_count": 61,
   "id": "aaf05d23-8f70-4cb1-966f-ab3b0ce3b8c8",
   "metadata": {
    "tags": []
   },
   "outputs": [
    {
     "data": {
      "text/plain": [
       "J209     8244\n",
       "I10      4629\n",
       "I109     3275\n",
       "F_       3203\n",
       "N_       3177\n",
       "         ... \n",
       "H700        1\n",
       "E058        1\n",
       "M5397       1\n",
       "T18         1\n",
       "P289        1\n",
       "Name: SICK_SYM1, Length: 3414, dtype: int64"
      ]
     },
     "execution_count": 61,
     "metadata": {},
     "output_type": "execute_result"
    }
   ],
   "source": [
    "df_BND_M20['SICK_SYM1'].value_counts()"
   ]
  },
  {
   "cell_type": "code",
   "execution_count": 62,
   "id": "6b39510a-b2f1-4f62-bc6c-8cfc74c919de",
   "metadata": {
    "tags": []
   },
   "outputs": [
    {
     "data": {
      "text/plain": [
       "(2, 4)"
      ]
     },
     "execution_count": 62,
     "metadata": {},
     "output_type": "execute_result"
    }
   ],
   "source": [
    "len('F_'), len('J209')"
   ]
  },
  {
   "cell_type": "code",
   "execution_count": 63,
   "id": "6bd63da5-1873-404c-8fa3-54fa4528df69",
   "metadata": {
    "tags": []
   },
   "outputs": [
    {
     "data": {
      "text/plain": [
       "('209', 'I10')"
      ]
     },
     "execution_count": 63,
     "metadata": {},
     "output_type": "execute_result"
    }
   ],
   "source": [
    "'J209'[1:], str('I109')[:3]"
   ]
  },
  {
   "cell_type": "code",
   "execution_count": 64,
   "id": "ab9f8497-0f2f-47fa-ac82-ca20ad946444",
   "metadata": {
    "tags": []
   },
   "outputs": [],
   "source": [
    "def convertSICK_SYM(sick_sym) :\n",
    "    if len(sick_sym) < 3 : \n",
    "        return None              ## 크기가 3보다 작은 null\n",
    "    else : \n",
    "        return sick_sym[:3]          ## 3보다 크면 3자리에서 자름\n",
    "    \n",
    "## 3개를 자르는 이유는 대분류3자리 소분류 2자리로 나눠져있음 "
   ]
  },
  {
   "cell_type": "code",
   "execution_count": 65,
   "id": "36477a88-f175-4fd9-98c5-77c4972bcf64",
   "metadata": {
    "tags": []
   },
   "outputs": [
    {
     "data": {
      "text/plain": [
       "('J20', None)"
      ]
     },
     "execution_count": 65,
     "metadata": {},
     "output_type": "execute_result"
    }
   ],
   "source": [
    "convertSICK_SYM('J209'), convertSICK_SYM('F_')"
   ]
  },
  {
   "cell_type": "code",
   "execution_count": 66,
   "id": "21f6b104-7468-488b-932e-c2ee6dd18857",
   "metadata": {
    "tags": []
   },
   "outputs": [],
   "source": [
    " df_BND_M20['SICK_SYM1_3'] = df_BND_M20['SICK_SYM1'].apply(convertSICK_SYM)"
   ]
  },
  {
   "cell_type": "code",
   "execution_count": 67,
   "id": "b105e321-283b-4d2c-a817-766cc2bbe50e",
   "metadata": {
    "tags": []
   },
   "outputs": [
    {
     "data": {
      "text/plain": [
       "J20    8917\n",
       "I10    8427\n",
       "J03    4187\n",
       "M54    3904\n",
       "J06    3460\n",
       "       ... \n",
       "G97       1\n",
       "K01       1\n",
       "S28       1\n",
       "I72       1\n",
       "P28       1\n",
       "Name: SICK_SYM1_3, Length: 747, dtype: int64"
      ]
     },
     "execution_count": 67,
     "metadata": {},
     "output_type": "execute_result"
    }
   ],
   "source": [
    " df_BND_M20['SICK_SYM1_3'].value_counts()"
   ]
  },
  {
   "cell_type": "code",
   "execution_count": 68,
   "id": "122630f0-9175-4f9e-8aa5-bd339e025dbb",
   "metadata": {
    "tags": []
   },
   "outputs": [
    {
     "data": {
      "text/plain": [
       "_id                   0\n",
       "RN_INDI               0\n",
       "BTH_YYYY              0\n",
       "DTH_YYYYMM            0\n",
       "COD1                  0\n",
       "COD2                  0\n",
       "RN_KEY                0\n",
       "RN_INST               0\n",
       "MDCARE_STRT_DT        0\n",
       "FORM_CD               0\n",
       "MCARE_SUBJ_CD         0\n",
       "SICK_SYM1             0\n",
       "OFIJ_TYPE             0\n",
       "OPRTN_YN              0\n",
       "MDCARE_DD_CNT         0\n",
       "VSHSP_DD_CNT          0\n",
       "TOT_PRSC_DD_CNT       0\n",
       "MCARE_RSLT_TYPE       0\n",
       "EDC_ADD_RT            0\n",
       "ED_RC_TOT_AMT         0\n",
       "EDC_SBA               0\n",
       "EDC_INSUR_BRDN_AMT    0\n",
       "STD_YYYY              0\n",
       "SICK_SYM1_3           0\n",
       "dtype: int64"
      ]
     },
     "execution_count": 68,
     "metadata": {},
     "output_type": "execute_result"
    }
   ],
   "source": [
    "df_BND_M20_dropna = df_BND_M20.dropna()\n",
    "df_BND_M20_dropna.isnull().sum()"
   ]
  },
  {
   "cell_type": "code",
   "execution_count": 69,
   "id": "d3c58b6e-5b21-4928-8936-764194f89a67",
   "metadata": {
    "tags": []
   },
   "outputs": [],
   "source": [
    "target_list = df_BND_M20_dropna['SICK_SYM1_3'].value_counts().index.to_list() ## 값에 따른 인텍스만 추출"
   ]
  },
  {
   "cell_type": "code",
   "execution_count": 70,
   "id": "ebdd4dad-b5a0-4bfe-b85f-08bcb2a4b035",
   "metadata": {
    "tags": []
   },
   "outputs": [
    {
     "data": {
      "text/plain": [
       "(83, 6)"
      ]
     },
     "execution_count": 70,
     "metadata": {},
     "output_type": "execute_result"
    }
   ],
   "source": [
    "target_list.index('L02'), target_list.index('J03')"
   ]
  },
  {
   "cell_type": "code",
   "execution_count": 71,
   "id": "fc455b6a-1147-494f-88e2-ea350e0c7394",
   "metadata": {
    "tags": []
   },
   "outputs": [],
   "source": [
    "def applyIndexNumber(sick_sym_3) :\n",
    "    inexNumber = target_list.index(sick_sym_3)\n",
    "    return inexNumber"
   ]
  },
  {
   "cell_type": "code",
   "execution_count": 95,
   "id": "0a3a5fb6-7590-4e6e-9a25-17fe5aa6cf8b",
   "metadata": {
    "tags": []
   },
   "outputs": [
    {
     "data": {
      "text/plain": [
       "(829,)"
      ]
     },
     "execution_count": 95,
     "metadata": {},
     "output_type": "execute_result"
    }
   ],
   "source": [
    "df_BND_M20_dropna['SICK_SYM1_3_target'].shape"
   ]
  },
  {
   "cell_type": "code",
   "execution_count": 72,
   "id": "11e5de52-6bae-43e0-a343-5b894d67cd13",
   "metadata": {
    "tags": []
   },
   "outputs": [
    {
     "name": "stderr",
     "output_type": "stream",
     "text": [
      "C:\\Users\\02-19\\AppData\\Local\\Temp\\ipykernel_8544\\836018491.py:1: SettingWithCopyWarning: \n",
      "A value is trying to be set on a copy of a slice from a DataFrame.\n",
      "Try using .loc[row_indexer,col_indexer] = value instead\n",
      "\n",
      "See the caveats in the documentation: https://pandas.pydata.org/pandas-docs/stable/user_guide/indexing.html#returning-a-view-versus-a-copy\n",
      "  df_BND_M20_dropna['SICK_SYM1_3_target'] = df_BND_M20_dropna['SICK_SYM1_3'].apply(applyIndexNumber)\n"
     ]
    },
    {
     "data": {
      "text/html": [
       "<div>\n",
       "<style scoped>\n",
       "    .dataframe tbody tr th:only-of-type {\n",
       "        vertical-align: middle;\n",
       "    }\n",
       "\n",
       "    .dataframe tbody tr th {\n",
       "        vertical-align: top;\n",
       "    }\n",
       "\n",
       "    .dataframe thead th {\n",
       "        text-align: right;\n",
       "    }\n",
       "</style>\n",
       "<table border=\"1\" class=\"dataframe\">\n",
       "  <thead>\n",
       "    <tr style=\"text-align: right;\">\n",
       "      <th></th>\n",
       "      <th>_id</th>\n",
       "      <th>RN_INDI</th>\n",
       "      <th>BTH_YYYY</th>\n",
       "      <th>DTH_YYYYMM</th>\n",
       "      <th>COD1</th>\n",
       "      <th>COD2</th>\n",
       "      <th>RN_KEY</th>\n",
       "      <th>RN_INST</th>\n",
       "      <th>MDCARE_STRT_DT</th>\n",
       "      <th>FORM_CD</th>\n",
       "      <th>...</th>\n",
       "      <th>VSHSP_DD_CNT</th>\n",
       "      <th>TOT_PRSC_DD_CNT</th>\n",
       "      <th>MCARE_RSLT_TYPE</th>\n",
       "      <th>EDC_ADD_RT</th>\n",
       "      <th>ED_RC_TOT_AMT</th>\n",
       "      <th>EDC_SBA</th>\n",
       "      <th>EDC_INSUR_BRDN_AMT</th>\n",
       "      <th>STD_YYYY</th>\n",
       "      <th>SICK_SYM1_3</th>\n",
       "      <th>SICK_SYM1_3_target</th>\n",
       "    </tr>\n",
       "  </thead>\n",
       "  <tbody>\n",
       "    <tr>\n",
       "      <th>0</th>\n",
       "      <td>64e6bbca5b6c745c7e44d61f</td>\n",
       "      <td>294364</td>\n",
       "      <td>1921LE</td>\n",
       "      <td>200707.0</td>\n",
       "      <td>T08-T14</td>\n",
       "      <td>W00-W19</td>\n",
       "      <td>2002080298703</td>\n",
       "      <td>26452</td>\n",
       "      <td>20020830</td>\n",
       "      <td>3</td>\n",
       "      <td>...</td>\n",
       "      <td>1</td>\n",
       "      <td>3</td>\n",
       "      <td>5.0</td>\n",
       "      <td>0.15</td>\n",
       "      <td>10590</td>\n",
       "      <td>3000</td>\n",
       "      <td>7590</td>\n",
       "      <td>2002</td>\n",
       "      <td>L02</td>\n",
       "      <td>83</td>\n",
       "    </tr>\n",
       "    <tr>\n",
       "      <th>3</th>\n",
       "      <td>64e6bbca5b6c745c7e44d622</td>\n",
       "      <td>294364</td>\n",
       "      <td>1921LE</td>\n",
       "      <td>200707.0</td>\n",
       "      <td>T08-T14</td>\n",
       "      <td>W00-W19</td>\n",
       "      <td>2002020488631</td>\n",
       "      <td>23506</td>\n",
       "      <td>20020208</td>\n",
       "      <td>3</td>\n",
       "      <td>...</td>\n",
       "      <td>1</td>\n",
       "      <td>3</td>\n",
       "      <td>5.0</td>\n",
       "      <td>0.15</td>\n",
       "      <td>12920</td>\n",
       "      <td>3000</td>\n",
       "      <td>9920</td>\n",
       "      <td>2002</td>\n",
       "      <td>K29</td>\n",
       "      <td>8</td>\n",
       "    </tr>\n",
       "  </tbody>\n",
       "</table>\n",
       "<p>2 rows × 25 columns</p>\n",
       "</div>"
      ],
      "text/plain": [
       "                        _id  RN_INDI BTH_YYYY  DTH_YYYYMM     COD1     COD2  \\\n",
       "0  64e6bbca5b6c745c7e44d61f   294364   1921LE    200707.0  T08-T14  W00-W19   \n",
       "3  64e6bbca5b6c745c7e44d622   294364   1921LE    200707.0  T08-T14  W00-W19   \n",
       "\n",
       "          RN_KEY  RN_INST  MDCARE_STRT_DT  FORM_CD  ...  VSHSP_DD_CNT  \\\n",
       "0  2002080298703    26452        20020830        3  ...             1   \n",
       "3  2002020488631    23506        20020208        3  ...             1   \n",
       "\n",
       "  TOT_PRSC_DD_CNT MCARE_RSLT_TYPE  EDC_ADD_RT  ED_RC_TOT_AMT  EDC_SBA  \\\n",
       "0               3             5.0        0.15          10590     3000   \n",
       "3               3             5.0        0.15          12920     3000   \n",
       "\n",
       "   EDC_INSUR_BRDN_AMT  STD_YYYY  SICK_SYM1_3  SICK_SYM1_3_target  \n",
       "0                7590      2002          L02                  83  \n",
       "3                9920      2002          K29                   8  \n",
       "\n",
       "[2 rows x 25 columns]"
      ]
     },
     "execution_count": 72,
     "metadata": {},
     "output_type": "execute_result"
    }
   ],
   "source": [
    "df_BND_M20_dropna['SICK_SYM1_3_target'] = df_BND_M20_dropna['SICK_SYM1_3'].apply(applyIndexNumber)\n",
    "df_BND_M20_dropna[:2]"
   ]
  },
  {
   "cell_type": "markdown",
   "id": "6cdcd5cf-faee-469e-ac30-c0bfb16d8d3b",
   "metadata": {},
   "source": [
    "### 정형화"
   ]
  },
  {
   "cell_type": "code",
   "execution_count": 73,
   "id": "27f1c9af-3ba5-49c3-bb1c-a0bc768e84b0",
   "metadata": {
    "tags": []
   },
   "outputs": [],
   "source": [
    "from sklearn.model_selection import train_test_split"
   ]
  },
  {
   "cell_type": "code",
   "execution_count": 74,
   "id": "50358129-defb-4002-8122-c2f99f3e1290",
   "metadata": {
    "tags": []
   },
   "outputs": [
    {
     "data": {
      "text/plain": [
       "6    829\n",
       "Name: SICK_SYM1_3_target, dtype: int64"
      ]
     },
     "execution_count": 74,
     "metadata": {},
     "output_type": "execute_result"
    }
   ],
   "source": [
    "target.value_counts()"
   ]
  },
  {
   "cell_type": "code",
   "execution_count": 75,
   "id": "837935fa-a005-43d7-a124-7a25e5e5bddc",
   "metadata": {
    "tags": []
   },
   "outputs": [
    {
     "data": {
      "text/plain": [
       "((829,), (829, 5))"
      ]
     },
     "execution_count": 75,
     "metadata": {},
     "output_type": "execute_result"
    }
   ],
   "source": [
    "target = df_BND_M20_dropna['SICK_SYM1_3_target']\n",
    "features = df_BND_M20_dropna[['OPRTN_YN','TOT_PRSC_DD_CNT','ED_RC_TOT_AMT', 'EDC_SBA', 'EDC_INSUR_BRDN_AMT']]\n",
    "target.shape, features.shape"
   ]
  },
  {
   "cell_type": "code",
   "execution_count": 76,
   "id": "130af7b0-c72b-4437-9ba9-57220a2199b4",
   "metadata": {
    "tags": []
   },
   "outputs": [
    {
     "data": {
      "text/plain": [
       "((621, 5), (621,), (208, 5), (208,))"
      ]
     },
     "execution_count": 76,
     "metadata": {},
     "output_type": "execute_result"
    }
   ],
   "source": [
    "features_train, features_test, target_train, target_test = train_test_split(features, target, random_state=111) #random_state=111 랜덤값으로 설정\n",
    "features_train.shape, target_train.shape, features_test.shape, target_test.shape"
   ]
  },
  {
   "cell_type": "markdown",
   "id": "8b8008a7-5a85-41ab-b0aa-967b32729049",
   "metadata": {},
   "source": [
    "### 모델학습 "
   ]
  },
  {
   "cell_type": "code",
   "execution_count": 77,
   "id": "173fd5ad-dc93-4105-85a6-550b1af73327",
   "metadata": {
    "tags": []
   },
   "outputs": [
    {
     "data": {
      "text/html": [
       "<style>#sk-container-id-2 {color: black;background-color: white;}#sk-container-id-2 pre{padding: 0;}#sk-container-id-2 div.sk-toggleable {background-color: white;}#sk-container-id-2 label.sk-toggleable__label {cursor: pointer;display: block;width: 100%;margin-bottom: 0;padding: 0.3em;box-sizing: border-box;text-align: center;}#sk-container-id-2 label.sk-toggleable__label-arrow:before {content: \"▸\";float: left;margin-right: 0.25em;color: #696969;}#sk-container-id-2 label.sk-toggleable__label-arrow:hover:before {color: black;}#sk-container-id-2 div.sk-estimator:hover label.sk-toggleable__label-arrow:before {color: black;}#sk-container-id-2 div.sk-toggleable__content {max-height: 0;max-width: 0;overflow: hidden;text-align: left;background-color: #f0f8ff;}#sk-container-id-2 div.sk-toggleable__content pre {margin: 0.2em;color: black;border-radius: 0.25em;background-color: #f0f8ff;}#sk-container-id-2 input.sk-toggleable__control:checked~div.sk-toggleable__content {max-height: 200px;max-width: 100%;overflow: auto;}#sk-container-id-2 input.sk-toggleable__control:checked~label.sk-toggleable__label-arrow:before {content: \"▾\";}#sk-container-id-2 div.sk-estimator input.sk-toggleable__control:checked~label.sk-toggleable__label {background-color: #d4ebff;}#sk-container-id-2 div.sk-label input.sk-toggleable__control:checked~label.sk-toggleable__label {background-color: #d4ebff;}#sk-container-id-2 input.sk-hidden--visually {border: 0;clip: rect(1px 1px 1px 1px);clip: rect(1px, 1px, 1px, 1px);height: 1px;margin: -1px;overflow: hidden;padding: 0;position: absolute;width: 1px;}#sk-container-id-2 div.sk-estimator {font-family: monospace;background-color: #f0f8ff;border: 1px dotted black;border-radius: 0.25em;box-sizing: border-box;margin-bottom: 0.5em;}#sk-container-id-2 div.sk-estimator:hover {background-color: #d4ebff;}#sk-container-id-2 div.sk-parallel-item::after {content: \"\";width: 100%;border-bottom: 1px solid gray;flex-grow: 1;}#sk-container-id-2 div.sk-label:hover label.sk-toggleable__label {background-color: #d4ebff;}#sk-container-id-2 div.sk-serial::before {content: \"\";position: absolute;border-left: 1px solid gray;box-sizing: border-box;top: 0;bottom: 0;left: 50%;z-index: 0;}#sk-container-id-2 div.sk-serial {display: flex;flex-direction: column;align-items: center;background-color: white;padding-right: 0.2em;padding-left: 0.2em;position: relative;}#sk-container-id-2 div.sk-item {position: relative;z-index: 1;}#sk-container-id-2 div.sk-parallel {display: flex;align-items: stretch;justify-content: center;background-color: white;position: relative;}#sk-container-id-2 div.sk-item::before, #sk-container-id-2 div.sk-parallel-item::before {content: \"\";position: absolute;border-left: 1px solid gray;box-sizing: border-box;top: 0;bottom: 0;left: 50%;z-index: -1;}#sk-container-id-2 div.sk-parallel-item {display: flex;flex-direction: column;z-index: 1;position: relative;background-color: white;}#sk-container-id-2 div.sk-parallel-item:first-child::after {align-self: flex-end;width: 50%;}#sk-container-id-2 div.sk-parallel-item:last-child::after {align-self: flex-start;width: 50%;}#sk-container-id-2 div.sk-parallel-item:only-child::after {width: 0;}#sk-container-id-2 div.sk-dashed-wrapped {border: 1px dashed gray;margin: 0 0.4em 0.5em 0.4em;box-sizing: border-box;padding-bottom: 0.4em;background-color: white;}#sk-container-id-2 div.sk-label label {font-family: monospace;font-weight: bold;display: inline-block;line-height: 1.2em;}#sk-container-id-2 div.sk-label-container {text-align: center;}#sk-container-id-2 div.sk-container {/* jupyter's `normalize.less` sets `[hidden] { display: none; }` but bootstrap.min.css set `[hidden] { display: none !important; }` so we also need the `!important` here to be able to override the default hidden behavior on the sphinx rendered scikit-learn.org. See: https://github.com/scikit-learn/scikit-learn/issues/21755 */display: inline-block !important;position: relative;}#sk-container-id-2 div.sk-text-repr-fallback {display: none;}</style><div id=\"sk-container-id-2\" class=\"sk-top-container\"><div class=\"sk-text-repr-fallback\"><pre>DecisionTreeClassifier()</pre><b>In a Jupyter environment, please rerun this cell to show the HTML representation or trust the notebook. <br />On GitHub, the HTML representation is unable to render, please try loading this page with nbviewer.org.</b></div><div class=\"sk-container\" hidden><div class=\"sk-item\"><div class=\"sk-estimator sk-toggleable\"><input class=\"sk-toggleable__control sk-hidden--visually\" id=\"sk-estimator-id-2\" type=\"checkbox\" checked><label for=\"sk-estimator-id-2\" class=\"sk-toggleable__label sk-toggleable__label-arrow\">DecisionTreeClassifier</label><div class=\"sk-toggleable__content\"><pre>DecisionTreeClassifier()</pre></div></div></div></div></div>"
      ],
      "text/plain": [
       "DecisionTreeClassifier()"
      ]
     },
     "execution_count": 77,
     "metadata": {},
     "output_type": "execute_result"
    }
   ],
   "source": [
    "from sklearn.tree import DecisionTreeClassifier\n",
    "model = DecisionTreeClassifier() # 인스턴스화\n",
    "model.fit(features, target) #모델 훈련"
   ]
  },
  {
   "cell_type": "markdown",
   "id": "6df164a1-ca40-4407-a9e4-da3b5fdf23aa",
   "metadata": {},
   "source": [
    "### 예측"
   ]
  },
  {
   "cell_type": "markdown",
   "id": "8e3953fc-eb50-4315-9011-1e9986d45fcc",
   "metadata": {},
   "source": [
    "### 평가 "
   ]
  },
  {
   "cell_type": "code",
   "execution_count": 78,
   "id": "15aff080-02bf-42e2-a555-23b9f8947d2e",
   "metadata": {
    "tags": []
   },
   "outputs": [
    {
     "data": {
      "text/plain": [
       "(621,)"
      ]
     },
     "execution_count": 78,
     "metadata": {},
     "output_type": "execute_result"
    }
   ],
   "source": [
    "target_train_predict = model.predict(features_train) \n",
    "target_train_predict.shape "
   ]
  },
  {
   "cell_type": "code",
   "execution_count": 79,
   "id": "3b3c4769-8498-4f47-a29d-03c4cc3015fd",
   "metadata": {
    "tags": []
   },
   "outputs": [],
   "source": [
    "from sklearn.metrics import accuracy_score"
   ]
  },
  {
   "cell_type": "code",
   "execution_count": 80,
   "id": "4b8dcf37-0fb2-4b64-b7e0-dfe36054a18b",
   "metadata": {
    "tags": []
   },
   "outputs": [
    {
     "data": {
      "text/plain": [
       "0.9178743961352657"
      ]
     },
     "execution_count": 80,
     "metadata": {},
     "output_type": "execute_result"
    }
   ],
   "source": [
    "accuracy_score(target_train, target_train_predict) \n",
    "## 교육한값과 교육을 예측한 값과 비교(교내 시험)"
   ]
  },
  {
   "cell_type": "code",
   "execution_count": 81,
   "id": "579651c6-ec3c-4290-b244-6f9ffc5ab222",
   "metadata": {
    "tags": []
   },
   "outputs": [
    {
     "data": {
      "text/plain": [
       "(208,)"
      ]
     },
     "execution_count": 81,
     "metadata": {},
     "output_type": "execute_result"
    }
   ],
   "source": [
    "target_test_predict = model.predict(features_test) # test한 값의 예측값\n",
    "target_test_predict.shape #target_test.shape과 동일"
   ]
  },
  {
   "cell_type": "code",
   "execution_count": 82,
   "id": "f67d48b0-6a8b-4313-9a0b-f2a74ee1a94e",
   "metadata": {
    "tags": []
   },
   "outputs": [
    {
     "data": {
      "text/plain": [
       "0.9230769230769231"
      ]
     },
     "execution_count": 82,
     "metadata": {},
     "output_type": "execute_result"
    }
   ],
   "source": [
    "accuracy_score(target_test, target_test_predict)"
   ]
  },
  {
   "cell_type": "markdown",
   "id": "aa66f69f-d87f-4ae4-8aee-ceae1aff643a",
   "metadata": {},
   "source": [
    "#### f1"
   ]
  },
  {
   "cell_type": "code",
   "execution_count": 83,
   "id": "178c7208-ff5b-4afa-a97a-646528e32380",
   "metadata": {
    "tags": []
   },
   "outputs": [],
   "source": [
    "from sklearn.metrics import classification_report"
   ]
  },
  {
   "cell_type": "code",
   "execution_count": 84,
   "id": "ff589f57-4284-4ba4-b0d6-c225d1272b1f",
   "metadata": {
    "collapsed": true,
    "jupyter": {
     "outputs_hidden": true
    },
    "tags": []
   },
   "outputs": [
    {
     "name": "stdout",
     "output_type": "stream",
     "text": [
      "              precision    recall  f1-score   support\n",
      "\n",
      "           0       0.76      0.96      0.85        53\n",
      "           1       0.91      0.98      0.94        49\n",
      "           2       0.91      1.00      0.95        30\n",
      "           3       0.73      0.93      0.82        29\n",
      "           4       1.00      1.00      1.00        24\n",
      "           5       0.81      0.79      0.80        28\n",
      "           6       0.95      0.77      0.85        26\n",
      "           7       1.00      1.00      1.00        18\n",
      "           8       1.00      0.85      0.92        13\n",
      "           9       0.80      0.86      0.83        14\n",
      "          10       1.00      1.00      1.00        11\n",
      "          11       1.00      1.00      1.00        13\n",
      "          12       1.00      1.00      1.00         8\n",
      "          13       0.83      1.00      0.91        10\n",
      "          14       0.88      1.00      0.93         7\n",
      "          15       0.86      0.75      0.80         8\n",
      "          16       0.88      0.78      0.82         9\n",
      "          17       1.00      0.88      0.93         8\n",
      "          18       0.89      0.80      0.84        10\n",
      "          19       1.00      0.67      0.80         6\n",
      "          20       1.00      1.00      1.00         7\n",
      "          21       1.00      1.00      1.00         7\n",
      "          22       1.00      1.00      1.00         9\n",
      "          23       1.00      0.83      0.91         6\n",
      "          24       1.00      1.00      1.00         5\n",
      "          25       1.00      1.00      1.00         5\n",
      "          26       1.00      1.00      1.00         3\n",
      "          27       1.00      1.00      1.00         5\n",
      "          28       1.00      1.00      1.00         6\n",
      "          29       1.00      1.00      1.00         5\n",
      "          30       1.00      1.00      1.00         5\n",
      "          31       1.00      0.75      0.86         4\n",
      "          32       1.00      0.50      0.67         4\n",
      "          33       1.00      1.00      1.00         4\n",
      "          34       1.00      1.00      1.00         4\n",
      "          35       1.00      1.00      1.00         5\n",
      "          36       1.00      1.00      1.00         3\n",
      "          37       1.00      1.00      1.00         3\n",
      "          38       1.00      1.00      1.00         3\n",
      "          39       1.00      1.00      1.00         3\n",
      "          40       1.00      1.00      1.00         4\n",
      "          41       1.00      1.00      1.00         5\n",
      "          42       1.00      1.00      1.00         5\n",
      "          43       1.00      1.00      1.00         2\n",
      "          44       1.00      0.25      0.40         4\n",
      "          45       1.00      1.00      1.00         3\n",
      "          46       1.00      0.75      0.86         4\n",
      "          47       1.00      0.67      0.80         3\n",
      "          48       1.00      1.00      1.00         3\n",
      "          49       1.00      1.00      1.00         3\n",
      "          50       0.75      1.00      0.86         3\n",
      "          51       1.00      1.00      1.00         2\n",
      "          52       1.00      1.00      1.00         3\n",
      "          53       1.00      1.00      1.00         4\n",
      "          54       1.00      1.00      1.00         4\n",
      "          55       1.00      1.00      1.00         3\n",
      "          56       1.00      1.00      1.00         3\n",
      "          58       1.00      1.00      1.00         1\n",
      "          59       1.00      1.00      1.00         2\n",
      "          60       1.00      1.00      1.00         1\n",
      "          61       1.00      1.00      1.00         3\n",
      "          62       1.00      1.00      1.00         3\n",
      "          63       1.00      1.00      1.00         3\n",
      "          64       1.00      1.00      1.00         1\n",
      "          65       1.00      0.67      0.80         3\n",
      "          66       1.00      1.00      1.00         2\n",
      "          67       1.00      1.00      1.00         2\n",
      "          68       1.00      1.00      1.00         2\n",
      "          69       1.00      0.50      0.67         2\n",
      "          70       1.00      1.00      1.00         3\n",
      "          71       1.00      1.00      1.00         2\n",
      "          72       1.00      1.00      1.00         2\n",
      "          73       1.00      1.00      1.00         1\n",
      "          75       1.00      1.00      1.00         2\n",
      "          76       1.00      0.50      0.67         2\n",
      "          77       1.00      1.00      1.00         2\n",
      "          78       1.00      1.00      1.00         2\n",
      "          79       0.00      0.00      0.00         2\n",
      "          80       1.00      0.50      0.67         2\n",
      "          81       1.00      1.00      1.00         2\n",
      "          82       1.00      1.00      1.00         1\n",
      "          83       1.00      1.00      1.00         1\n",
      "          84       1.00      1.00      1.00         1\n",
      "          87       1.00      1.00      1.00         2\n",
      "          88       1.00      0.50      0.67         2\n",
      "          89       1.00      1.00      1.00         2\n",
      "          90       1.00      1.00      1.00         1\n",
      "          91       0.50      0.50      0.50         2\n",
      "          92       1.00      0.50      0.67         2\n",
      "          94       0.00      0.00      0.00         1\n",
      "          95       1.00      1.00      1.00         1\n",
      "          97       1.00      1.00      1.00         1\n",
      "          98       1.00      1.00      1.00         1\n",
      "          99       1.00      1.00      1.00         1\n",
      "         101       1.00      1.00      1.00         1\n",
      "         102       1.00      1.00      1.00         1\n",
      "         103       1.00      1.00      1.00         1\n",
      "         104       1.00      1.00      1.00         1\n",
      "         105       1.00      1.00      1.00         1\n",
      "         106       1.00      1.00      1.00         1\n",
      "         107       1.00      1.00      1.00         1\n",
      "         108       1.00      1.00      1.00         1\n",
      "         110       1.00      1.00      1.00         1\n",
      "         111       1.00      1.00      1.00         1\n",
      "         112       1.00      1.00      1.00         1\n",
      "         114       1.00      1.00      1.00         1\n",
      "         115       1.00      1.00      1.00         1\n",
      "         116       1.00      1.00      1.00         1\n",
      "         119       1.00      1.00      1.00         1\n",
      "         120       1.00      1.00      1.00         1\n",
      "         123       1.00      1.00      1.00         1\n",
      "         125       0.00      0.00      0.00         1\n",
      "         130       1.00      1.00      1.00         1\n",
      "         131       1.00      1.00      1.00         1\n",
      "         132       1.00      1.00      1.00         1\n",
      "         133       0.00      0.00      0.00         1\n",
      "         136       1.00      1.00      1.00         1\n",
      "         137       1.00      1.00      1.00         1\n",
      "         138       1.00      1.00      1.00         1\n",
      "         139       1.00      1.00      1.00         1\n",
      "         140       1.00      1.00      1.00         1\n",
      "\n",
      "    accuracy                           0.92       621\n",
      "   macro avg       0.95      0.90      0.92       621\n",
      "weighted avg       0.92      0.92      0.91       621\n",
      "\n"
     ]
    },
    {
     "name": "stderr",
     "output_type": "stream",
     "text": [
      "C:\\Users\\02-19\\anaconda3\\Lib\\site-packages\\sklearn\\metrics\\_classification.py:1344: UndefinedMetricWarning: Precision and F-score are ill-defined and being set to 0.0 in labels with no predicted samples. Use `zero_division` parameter to control this behavior.\n",
      "  _warn_prf(average, modifier, msg_start, len(result))\n",
      "C:\\Users\\02-19\\anaconda3\\Lib\\site-packages\\sklearn\\metrics\\_classification.py:1344: UndefinedMetricWarning: Precision and F-score are ill-defined and being set to 0.0 in labels with no predicted samples. Use `zero_division` parameter to control this behavior.\n",
      "  _warn_prf(average, modifier, msg_start, len(result))\n",
      "C:\\Users\\02-19\\anaconda3\\Lib\\site-packages\\sklearn\\metrics\\_classification.py:1344: UndefinedMetricWarning: Precision and F-score are ill-defined and being set to 0.0 in labels with no predicted samples. Use `zero_division` parameter to control this behavior.\n",
      "  _warn_prf(average, modifier, msg_start, len(result))\n"
     ]
    }
   ],
   "source": [
    "print(classification_report(target_train, target_train_predict)) #교육"
   ]
  },
  {
   "cell_type": "code",
   "execution_count": 85,
   "id": "d02782d2-571e-48d3-8e77-a1f3abbad726",
   "metadata": {
    "collapsed": true,
    "jupyter": {
     "outputs_hidden": true
    },
    "tags": []
   },
   "outputs": [
    {
     "name": "stdout",
     "output_type": "stream",
     "text": [
      "              precision    recall  f1-score   support\n",
      "\n",
      "           0       0.74      0.93      0.82        15\n",
      "           1       0.78      1.00      0.88         7\n",
      "           2       1.00      0.95      0.97        20\n",
      "           3       0.71      0.83      0.77         6\n",
      "           4       1.00      1.00      1.00         8\n",
      "           5       0.67      1.00      0.80         4\n",
      "           6       0.80      1.00      0.89         4\n",
      "           7       1.00      1.00      1.00         6\n",
      "           8       1.00      0.90      0.95        10\n",
      "           9       0.50      0.60      0.55         5\n",
      "          10       1.00      1.00      1.00         5\n",
      "          11       1.00      0.50      0.67         2\n",
      "          12       1.00      1.00      1.00         4\n",
      "          13       1.00      1.00      1.00         2\n",
      "          14       1.00      1.00      1.00         4\n",
      "          15       1.00      1.00      1.00         3\n",
      "          16       0.67      1.00      0.80         2\n",
      "          17       1.00      1.00      1.00         2\n",
      "          19       1.00      1.00      1.00         3\n",
      "          20       1.00      1.00      1.00         2\n",
      "          21       1.00      1.00      1.00         2\n",
      "          23       1.00      0.33      0.50         3\n",
      "          24       1.00      0.67      0.80         3\n",
      "          25       1.00      1.00      1.00         3\n",
      "          26       1.00      1.00      1.00         4\n",
      "          27       1.00      0.50      0.67         2\n",
      "          29       1.00      1.00      1.00         1\n",
      "          30       0.00      0.00      0.00         1\n",
      "          31       1.00      0.50      0.67         2\n",
      "          32       1.00      0.50      0.67         2\n",
      "          33       1.00      1.00      1.00         2\n",
      "          34       1.00      1.00      1.00         2\n",
      "          35       1.00      1.00      1.00         1\n",
      "          36       1.00      1.00      1.00         2\n",
      "          37       1.00      1.00      1.00         2\n",
      "          38       1.00      1.00      1.00         2\n",
      "          39       1.00      1.00      1.00         2\n",
      "          40       1.00      1.00      1.00         1\n",
      "          43       1.00      1.00      1.00         3\n",
      "          44       1.00      1.00      1.00         1\n",
      "          45       1.00      1.00      1.00         2\n",
      "          47       1.00      1.00      1.00         1\n",
      "          48       1.00      1.00      1.00         1\n",
      "          49       1.00      1.00      1.00         1\n",
      "          50       1.00      1.00      1.00         1\n",
      "          51       1.00      1.00      1.00         2\n",
      "          52       1.00      1.00      1.00         1\n",
      "          55       1.00      1.00      1.00         1\n",
      "          57       1.00      0.67      0.80         3\n",
      "          58       1.00      1.00      1.00         2\n",
      "          59       1.00      1.00      1.00         1\n",
      "          60       1.00      1.00      1.00         2\n",
      "          64       1.00      1.00      1.00         2\n",
      "          66       1.00      1.00      1.00         1\n",
      "          67       1.00      1.00      1.00         1\n",
      "          68       1.00      1.00      1.00         1\n",
      "          69       1.00      1.00      1.00         1\n",
      "          71       1.00      1.00      1.00         1\n",
      "          72       1.00      1.00      1.00         1\n",
      "          73       1.00      1.00      1.00         1\n",
      "          74       1.00      1.00      1.00         2\n",
      "          82       1.00      1.00      1.00         1\n",
      "          83       1.00      1.00      1.00         1\n",
      "          84       0.00      0.00      0.00         1\n",
      "          85       1.00      1.00      1.00         2\n",
      "          86       1.00      1.00      1.00         2\n",
      "          90       1.00      1.00      1.00         1\n",
      "          93       1.00      1.00      1.00         1\n",
      "          96       1.00      1.00      1.00         1\n",
      "         100       1.00      1.00      1.00         1\n",
      "         109       1.00      1.00      1.00         1\n",
      "         113       1.00      1.00      1.00         1\n",
      "         117       1.00      1.00      1.00         1\n",
      "         118       1.00      1.00      1.00         1\n",
      "         121       1.00      1.00      1.00         1\n",
      "         122       1.00      1.00      1.00         1\n",
      "         124       1.00      1.00      1.00         1\n",
      "         126       1.00      1.00      1.00         1\n",
      "         127       1.00      1.00      1.00         1\n",
      "         128       1.00      1.00      1.00         1\n",
      "         129       1.00      1.00      1.00         1\n",
      "         134       1.00      1.00      1.00         1\n",
      "         135       1.00      1.00      1.00         1\n",
      "\n",
      "    accuracy                           0.92       208\n",
      "   macro avg       0.95      0.93      0.93       208\n",
      "weighted avg       0.93      0.92      0.92       208\n",
      "\n"
     ]
    },
    {
     "name": "stderr",
     "output_type": "stream",
     "text": [
      "C:\\Users\\02-19\\anaconda3\\Lib\\site-packages\\sklearn\\metrics\\_classification.py:1344: UndefinedMetricWarning: Precision and F-score are ill-defined and being set to 0.0 in labels with no predicted samples. Use `zero_division` parameter to control this behavior.\n",
      "  _warn_prf(average, modifier, msg_start, len(result))\n",
      "C:\\Users\\02-19\\anaconda3\\Lib\\site-packages\\sklearn\\metrics\\_classification.py:1344: UndefinedMetricWarning: Precision and F-score are ill-defined and being set to 0.0 in labels with no predicted samples. Use `zero_division` parameter to control this behavior.\n",
      "  _warn_prf(average, modifier, msg_start, len(result))\n",
      "C:\\Users\\02-19\\anaconda3\\Lib\\site-packages\\sklearn\\metrics\\_classification.py:1344: UndefinedMetricWarning: Precision and F-score are ill-defined and being set to 0.0 in labels with no predicted samples. Use `zero_division` parameter to control this behavior.\n",
      "  _warn_prf(average, modifier, msg_start, len(result))\n"
     ]
    }
   ],
   "source": [
    "print(classification_report(target_test, target_test_predict)) #시험"
   ]
  },
  {
   "cell_type": "markdown",
   "id": "71eb3c28-95dc-403b-8773-1b8ee1fddeae",
   "metadata": {},
   "source": [
    "### 오차 행렬 (confusion_matrix)\n",
    "- precision : 정밀도 \n",
    "- recall : 재현율"
   ]
  },
  {
   "cell_type": "code",
   "execution_count": 86,
   "id": "3d199957-0ee2-413d-95a1-d39f1dd218a4",
   "metadata": {
    "tags": []
   },
   "outputs": [],
   "source": [
    "from sklearn.metrics import confusion_matrix, precision_score, recall_score, f1_score"
   ]
  },
  {
   "cell_type": "code",
   "execution_count": 87,
   "id": "9eded5f0-ee54-4110-aaa7-3099d0d18734",
   "metadata": {
    "tags": []
   },
   "outputs": [
    {
     "data": {
      "text/plain": [
       "array([[51,  0,  0, ...,  0,  0,  0],\n",
       "       [ 0, 48,  1, ...,  0,  0,  0],\n",
       "       [ 0,  0, 30, ...,  0,  0,  0],\n",
       "       ...,\n",
       "       [ 0,  0,  0, ...,  1,  0,  0],\n",
       "       [ 0,  0,  0, ...,  0,  1,  0],\n",
       "       [ 0,  0,  0, ...,  0,  0,  1]], dtype=int64)"
      ]
     },
     "execution_count": 87,
     "metadata": {},
     "output_type": "execute_result"
    }
   ],
   "source": [
    "confusion_matrix(target_train, target_train_predict)"
   ]
  },
  {
   "cell_type": "code",
   "execution_count": 99,
   "id": "199f1d30-b1bb-4b5f-b2fc-d948cdbdce8a",
   "metadata": {
    "tags": []
   },
   "outputs": [
    {
     "data": {
      "text/plain": [
       "0.9178743961352657"
      ]
     },
     "execution_count": 99,
     "metadata": {},
     "output_type": "execute_result"
    }
   ],
   "source": [
    "precision_score(target_train, target_train_predict, average='micro') #가중치?"
   ]
  },
  {
   "cell_type": "code",
   "execution_count": 91,
   "id": "a5d67921-aaed-45a6-adf7-6da2a7f4cbfa",
   "metadata": {
    "tags": []
   },
   "outputs": [
    {
     "data": {
      "text/plain": [
       "0.9230769230769231"
      ]
     },
     "execution_count": 91,
     "metadata": {},
     "output_type": "execute_result"
    }
   ],
   "source": [
    "precision_score(target_test, target_test_predict, average='micro')"
   ]
  },
  {
   "cell_type": "code",
   "execution_count": 92,
   "id": "8187fd3f-63e6-4fa9-badb-af41797d43d1",
   "metadata": {
    "tags": []
   },
   "outputs": [
    {
     "data": {
      "text/plain": [
       "0.9178743961352657"
      ]
     },
     "execution_count": 92,
     "metadata": {},
     "output_type": "execute_result"
    }
   ],
   "source": [
    "recall_score(target_train, target_train_predict,average='micro')"
   ]
  },
  {
   "cell_type": "code",
   "execution_count": 93,
   "id": "d60ad3a6-448c-4856-84c7-6c2bb8d85f92",
   "metadata": {
    "tags": []
   },
   "outputs": [
    {
     "data": {
      "text/plain": [
       "0.9178743961352658"
      ]
     },
     "execution_count": 93,
     "metadata": {},
     "output_type": "execute_result"
    }
   ],
   "source": [
    "f1_score(target_train, target_train_predict,average='micro')"
   ]
  },
  {
   "cell_type": "code",
   "execution_count": null,
   "id": "1063a50a-cf06-4092-8bf6-98c013119984",
   "metadata": {},
   "outputs": [],
   "source": []
  }
 ],
 "metadata": {
  "kernelspec": {
   "display_name": "Python 3 (ipykernel)",
   "language": "python",
   "name": "python3"
  },
  "language_info": {
   "codemirror_mode": {
    "name": "ipython",
    "version": 3
   },
   "file_extension": ".py",
   "mimetype": "text/x-python",
   "name": "python",
   "nbconvert_exporter": "python",
   "pygments_lexer": "ipython3",
   "version": "3.11.3"
  }
 },
 "nbformat": 4,
 "nbformat_minor": 5
}
