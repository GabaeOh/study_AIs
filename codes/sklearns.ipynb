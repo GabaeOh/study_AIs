{
 "cells": [
  {
   "cell_type": "code",
   "execution_count": 1,
   "id": "09597094-14db-4288-8a6e-b0433c838128",
   "metadata": {
    "tags": []
   },
   "outputs": [],
   "source": [
    "from sklearn.preprocessing import OneHotEncoder"
   ]
  },
  {
   "cell_type": "code",
   "execution_count": 2,
   "id": "790b77e4-63bd-498c-aa56-7978735993ec",
   "metadata": {
    "tags": []
   },
   "outputs": [],
   "source": [
    "data = {'Feature1': ['A', 'B', 'A', 'C'],\n",
    "        'Feature2': ['High', 'Low', 'Medium', 'Low']}"
   ]
  },
  {
   "cell_type": "code",
   "execution_count": 3,
   "id": "1ed3d934-c565-4935-a84b-3ff3156c4d55",
   "metadata": {
    "tags": []
   },
   "outputs": [],
   "source": [
    "import pandas as pd "
   ]
  },
  {
   "cell_type": "markdown",
   "id": "f30cb9b8-6a02-4c9a-b424-1b8d0abd12d5",
   "metadata": {},
   "source": [
    "#### Encoding with One Hot Encoding \n",
    "- 범주형 데이터를 연속형 숫자 데이터로 변환\n",
    "- 범주형 항목만큼 벡터화"
   ]
  },
  {
   "cell_type": "code",
   "execution_count": 4,
   "id": "20a48f89-3da7-4f59-a60f-dabed8680814",
   "metadata": {
    "tags": []
   },
   "outputs": [
    {
     "data": {
      "text/html": [
       "<div>\n",
       "<style scoped>\n",
       "    .dataframe tbody tr th:only-of-type {\n",
       "        vertical-align: middle;\n",
       "    }\n",
       "\n",
       "    .dataframe tbody tr th {\n",
       "        vertical-align: top;\n",
       "    }\n",
       "\n",
       "    .dataframe thead th {\n",
       "        text-align: right;\n",
       "    }\n",
       "</style>\n",
       "<table border=\"1\" class=\"dataframe\">\n",
       "  <thead>\n",
       "    <tr style=\"text-align: right;\">\n",
       "      <th></th>\n",
       "      <th>Feature1</th>\n",
       "      <th>Feature2</th>\n",
       "    </tr>\n",
       "  </thead>\n",
       "  <tbody>\n",
       "    <tr>\n",
       "      <th>0</th>\n",
       "      <td>A</td>\n",
       "      <td>High</td>\n",
       "    </tr>\n",
       "    <tr>\n",
       "      <th>1</th>\n",
       "      <td>B</td>\n",
       "      <td>Low</td>\n",
       "    </tr>\n",
       "    <tr>\n",
       "      <th>2</th>\n",
       "      <td>A</td>\n",
       "      <td>Medium</td>\n",
       "    </tr>\n",
       "    <tr>\n",
       "      <th>3</th>\n",
       "      <td>C</td>\n",
       "      <td>Low</td>\n",
       "    </tr>\n",
       "  </tbody>\n",
       "</table>\n",
       "</div>"
      ],
      "text/plain": [
       "  Feature1 Feature2\n",
       "0        A     High\n",
       "1        B      Low\n",
       "2        A   Medium\n",
       "3        C      Low"
      ]
     },
     "execution_count": 4,
     "metadata": {},
     "output_type": "execute_result"
    }
   ],
   "source": [
    "df_data = pd.DataFrame(data)\n",
    "df_data"
   ]
  },
  {
   "cell_type": "code",
   "execution_count": 5,
   "id": "fbf77811-4c96-494a-8cef-2e7d139399d3",
   "metadata": {
    "tags": []
   },
   "outputs": [
    {
     "data": {
      "text/plain": [
       "(RangeIndex(start=0, stop=4, step=1),\n",
       " Index(['Feature1', 'Feature2'], dtype='object'),\n",
       " array([['A', 'High'],\n",
       "        ['B', 'Low'],\n",
       "        ['A', 'Medium'],\n",
       "        ['C', 'Low']], dtype=object))"
      ]
     },
     "execution_count": 5,
     "metadata": {},
     "output_type": "execute_result"
    }
   ],
   "source": [
    "df_data.index, df_data.columns, df_data.values"
   ]
  },
  {
   "cell_type": "code",
   "execution_count": 6,
   "id": "ed919025-3900-47cf-930f-a7fb931061f7",
   "metadata": {
    "tags": []
   },
   "outputs": [
    {
     "data": {
      "text/plain": [
       "numpy.ndarray"
      ]
     },
     "execution_count": 6,
     "metadata": {},
     "output_type": "execute_result"
    }
   ],
   "source": [
    "type(df_data.values) # array"
   ]
  },
  {
   "cell_type": "code",
   "execution_count": 7,
   "id": "ee7e14d2-5797-475c-b610-f84d6cb196d9",
   "metadata": {
    "tags": []
   },
   "outputs": [],
   "source": [
    "oneHotEncoder = OneHotEncoder() # 인스턴스화"
   ]
  },
  {
   "cell_type": "code",
   "execution_count": 8,
   "id": "fca136c5-b35a-468e-b331-69ac31fb35aa",
   "metadata": {
    "tags": []
   },
   "outputs": [
    {
     "data": {
      "text/html": [
       "<style>#sk-container-id-1 {color: black;background-color: white;}#sk-container-id-1 pre{padding: 0;}#sk-container-id-1 div.sk-toggleable {background-color: white;}#sk-container-id-1 label.sk-toggleable__label {cursor: pointer;display: block;width: 100%;margin-bottom: 0;padding: 0.3em;box-sizing: border-box;text-align: center;}#sk-container-id-1 label.sk-toggleable__label-arrow:before {content: \"▸\";float: left;margin-right: 0.25em;color: #696969;}#sk-container-id-1 label.sk-toggleable__label-arrow:hover:before {color: black;}#sk-container-id-1 div.sk-estimator:hover label.sk-toggleable__label-arrow:before {color: black;}#sk-container-id-1 div.sk-toggleable__content {max-height: 0;max-width: 0;overflow: hidden;text-align: left;background-color: #f0f8ff;}#sk-container-id-1 div.sk-toggleable__content pre {margin: 0.2em;color: black;border-radius: 0.25em;background-color: #f0f8ff;}#sk-container-id-1 input.sk-toggleable__control:checked~div.sk-toggleable__content {max-height: 200px;max-width: 100%;overflow: auto;}#sk-container-id-1 input.sk-toggleable__control:checked~label.sk-toggleable__label-arrow:before {content: \"▾\";}#sk-container-id-1 div.sk-estimator input.sk-toggleable__control:checked~label.sk-toggleable__label {background-color: #d4ebff;}#sk-container-id-1 div.sk-label input.sk-toggleable__control:checked~label.sk-toggleable__label {background-color: #d4ebff;}#sk-container-id-1 input.sk-hidden--visually {border: 0;clip: rect(1px 1px 1px 1px);clip: rect(1px, 1px, 1px, 1px);height: 1px;margin: -1px;overflow: hidden;padding: 0;position: absolute;width: 1px;}#sk-container-id-1 div.sk-estimator {font-family: monospace;background-color: #f0f8ff;border: 1px dotted black;border-radius: 0.25em;box-sizing: border-box;margin-bottom: 0.5em;}#sk-container-id-1 div.sk-estimator:hover {background-color: #d4ebff;}#sk-container-id-1 div.sk-parallel-item::after {content: \"\";width: 100%;border-bottom: 1px solid gray;flex-grow: 1;}#sk-container-id-1 div.sk-label:hover label.sk-toggleable__label {background-color: #d4ebff;}#sk-container-id-1 div.sk-serial::before {content: \"\";position: absolute;border-left: 1px solid gray;box-sizing: border-box;top: 0;bottom: 0;left: 50%;z-index: 0;}#sk-container-id-1 div.sk-serial {display: flex;flex-direction: column;align-items: center;background-color: white;padding-right: 0.2em;padding-left: 0.2em;position: relative;}#sk-container-id-1 div.sk-item {position: relative;z-index: 1;}#sk-container-id-1 div.sk-parallel {display: flex;align-items: stretch;justify-content: center;background-color: white;position: relative;}#sk-container-id-1 div.sk-item::before, #sk-container-id-1 div.sk-parallel-item::before {content: \"\";position: absolute;border-left: 1px solid gray;box-sizing: border-box;top: 0;bottom: 0;left: 50%;z-index: -1;}#sk-container-id-1 div.sk-parallel-item {display: flex;flex-direction: column;z-index: 1;position: relative;background-color: white;}#sk-container-id-1 div.sk-parallel-item:first-child::after {align-self: flex-end;width: 50%;}#sk-container-id-1 div.sk-parallel-item:last-child::after {align-self: flex-start;width: 50%;}#sk-container-id-1 div.sk-parallel-item:only-child::after {width: 0;}#sk-container-id-1 div.sk-dashed-wrapped {border: 1px dashed gray;margin: 0 0.4em 0.5em 0.4em;box-sizing: border-box;padding-bottom: 0.4em;background-color: white;}#sk-container-id-1 div.sk-label label {font-family: monospace;font-weight: bold;display: inline-block;line-height: 1.2em;}#sk-container-id-1 div.sk-label-container {text-align: center;}#sk-container-id-1 div.sk-container {/* jupyter's `normalize.less` sets `[hidden] { display: none; }` but bootstrap.min.css set `[hidden] { display: none !important; }` so we also need the `!important` here to be able to override the default hidden behavior on the sphinx rendered scikit-learn.org. See: https://github.com/scikit-learn/scikit-learn/issues/21755 */display: inline-block !important;position: relative;}#sk-container-id-1 div.sk-text-repr-fallback {display: none;}</style><div id=\"sk-container-id-1\" class=\"sk-top-container\"><div class=\"sk-text-repr-fallback\"><pre>OneHotEncoder()</pre><b>In a Jupyter environment, please rerun this cell to show the HTML representation or trust the notebook. <br />On GitHub, the HTML representation is unable to render, please try loading this page with nbviewer.org.</b></div><div class=\"sk-container\" hidden><div class=\"sk-item\"><div class=\"sk-estimator sk-toggleable\"><input class=\"sk-toggleable__control sk-hidden--visually\" id=\"sk-estimator-id-1\" type=\"checkbox\" checked><label for=\"sk-estimator-id-1\" class=\"sk-toggleable__label sk-toggleable__label-arrow\">OneHotEncoder</label><div class=\"sk-toggleable__content\"><pre>OneHotEncoder()</pre></div></div></div></div></div>"
      ],
      "text/plain": [
       "OneHotEncoder()"
      ]
     },
     "execution_count": 8,
     "metadata": {},
     "output_type": "execute_result"
    }
   ],
   "source": [
    "oneHotEncoder.fit(df_data[['Feature1']]) # 훈련"
   ]
  },
  {
   "cell_type": "code",
   "execution_count": 9,
   "id": "55400377-29fb-43c2-922e-4b8e4c50c29a",
   "metadata": {
    "tags": []
   },
   "outputs": [
    {
     "data": {
      "text/plain": [
       "'oneHotEncoder.categories_'"
      ]
     },
     "execution_count": 9,
     "metadata": {},
     "output_type": "execute_result"
    }
   ],
   "source": [
    "oneHotEncoder.categories_ # 분류된 범주 찾기\n",
    ", oneHotEncoder.categories_"
   ]
  },
  {
   "cell_type": "code",
   "execution_count": 10,
   "id": "ec0e9dfc-ae13-4b94-af1a-fc470b14fc47",
   "metadata": {
    "tags": []
   },
   "outputs": [
    {
     "data": {
      "text/plain": [
       "array([[1., 0., 0.],\n",
       "       [0., 1., 0.],\n",
       "       [1., 0., 0.],\n",
       "       [0., 0., 1.]])"
      ]
     },
     "execution_count": 10,
     "metadata": {},
     "output_type": "execute_result"
    }
   ],
   "source": [
    "encoder_array = oneHotEncoder.transform(df_data[['Feature1']]).toarray() #범부형이 연속형으로 변경이 이루어짐 \n",
    "encoder_array"
   ]
  },
  {
   "cell_type": "code",
   "execution_count": 11,
   "id": "b1cc9ba9-88fa-4219-a81e-2128b9d6e6d4",
   "metadata": {
    "tags": []
   },
   "outputs": [],
   "source": [
    "#pd.DataFrame(encoder_array, columns= oneHotEncoder.get_feature_names_out(['Feature1']))\n",
    "## columns= oneHotEncoder.get_feature_names_out() # 임의로 생성"
   ]
  },
  {
   "cell_type": "code",
   "execution_count": 12,
   "id": "a1764952-4478-4977-9854-1b414d418d5f",
   "metadata": {
    "tags": []
   },
   "outputs": [],
   "source": [
    "df_encoder = pd.DataFrame(encoder_array, columns= oneHotEncoder.categories_) \n",
    "##columns= oneHotEncoder.categories_  #categories로 컬럼명 생성 "
   ]
  },
  {
   "cell_type": "markdown",
   "id": "03aa1c29-fdd7-492f-88a0-b5a0a9a3b119",
   "metadata": {},
   "source": [
    "#### concat"
   ]
  },
  {
   "cell_type": "code",
   "execution_count": 13,
   "id": "c6f36ca6-861a-4a67-b746-694d1dfb3afd",
   "metadata": {
    "tags": []
   },
   "outputs": [
    {
     "data": {
      "text/html": [
       "<div>\n",
       "<style scoped>\n",
       "    .dataframe tbody tr th:only-of-type {\n",
       "        vertical-align: middle;\n",
       "    }\n",
       "\n",
       "    .dataframe tbody tr th {\n",
       "        vertical-align: top;\n",
       "    }\n",
       "\n",
       "    .dataframe thead th {\n",
       "        text-align: right;\n",
       "    }\n",
       "</style>\n",
       "<table border=\"1\" class=\"dataframe\">\n",
       "  <thead>\n",
       "    <tr style=\"text-align: right;\">\n",
       "      <th></th>\n",
       "      <th>Feature1</th>\n",
       "      <th>Feature2</th>\n",
       "      <th>(A,)</th>\n",
       "      <th>(B,)</th>\n",
       "      <th>(C,)</th>\n",
       "    </tr>\n",
       "  </thead>\n",
       "  <tbody>\n",
       "    <tr>\n",
       "      <th>0</th>\n",
       "      <td>A</td>\n",
       "      <td>High</td>\n",
       "      <td>1.0</td>\n",
       "      <td>0.0</td>\n",
       "      <td>0.0</td>\n",
       "    </tr>\n",
       "    <tr>\n",
       "      <th>1</th>\n",
       "      <td>B</td>\n",
       "      <td>Low</td>\n",
       "      <td>0.0</td>\n",
       "      <td>1.0</td>\n",
       "      <td>0.0</td>\n",
       "    </tr>\n",
       "    <tr>\n",
       "      <th>2</th>\n",
       "      <td>A</td>\n",
       "      <td>Medium</td>\n",
       "      <td>1.0</td>\n",
       "      <td>0.0</td>\n",
       "      <td>0.0</td>\n",
       "    </tr>\n",
       "    <tr>\n",
       "      <th>3</th>\n",
       "      <td>C</td>\n",
       "      <td>Low</td>\n",
       "      <td>0.0</td>\n",
       "      <td>0.0</td>\n",
       "      <td>1.0</td>\n",
       "    </tr>\n",
       "  </tbody>\n",
       "</table>\n",
       "</div>"
      ],
      "text/plain": [
       "  Feature1 Feature2  (A,)  (B,)  (C,)\n",
       "0        A     High   1.0   0.0   0.0\n",
       "1        B      Low   0.0   1.0   0.0\n",
       "2        A   Medium   1.0   0.0   0.0\n",
       "3        C      Low   0.0   0.0   1.0"
      ]
     },
     "execution_count": 13,
     "metadata": {},
     "output_type": "execute_result"
    }
   ],
   "source": [
    "pd.concat([df_data, df_encoder], axis=1)"
   ]
  },
  {
   "cell_type": "markdown",
   "id": "fa7c0642-2405-40a0-9909-71b9c6d43551",
   "metadata": {},
   "source": [
    "## Imbalanced Data Sampling"
   ]
  },
  {
   "cell_type": "markdown",
   "id": "84bf3505-6c06-4eec-abed-ecc84aeabead",
   "metadata": {},
   "source": [
    "### Under Sampling : Tomek's Link \n",
    "- 데이터의 비율이 적은 쪽으로 한쪽의 데이터를 줄여주는 기법\n",
    "- (Random Under Sampling / Tomek's Link / KNN ....)"
   ]
  },
  {
   "cell_type": "code",
   "execution_count": 16,
   "id": "e046d3b3-60e6-4350-8b70-67019d724995",
   "metadata": {
    "tags": []
   },
   "outputs": [],
   "source": [
    "from imblearn.under_sampling import TomekLinks\n",
    "# 결과값은 numpy로 뱉어냄"
   ]
  },
  {
   "cell_type": "code",
   "execution_count": 17,
   "id": "5b8faac8-49b1-4f5a-abdd-48a32f51c743",
   "metadata": {
    "tags": []
   },
   "outputs": [],
   "source": [
    "from sklearn.datasets import make_classification"
   ]
  },
  {
   "cell_type": "code",
   "execution_count": 27,
   "id": "6d99b3f5-d041-4518-9d0b-9a5d43880107",
   "metadata": {
    "tags": []
   },
   "outputs": [],
   "source": [
    "features, target = make_classification(n_classes=2, class_sep=2,\n",
    "                    weights=[0.3, 0.7], n_informative=3, n_redundant=1, flip_y=0,\n",
    "                    n_features=20, n_clusters_per_class=1, n_samples=1000, random_state=10)"
   ]
  },
  {
   "cell_type": "code",
   "execution_count": 28,
   "id": "44682793-3279-46b7-9be7-5f0dbc1050cf",
   "metadata": {
    "tags": []
   },
   "outputs": [
    {
     "data": {
      "text/plain": [
       "((1000, 20), (1000,))"
      ]
     },
     "execution_count": 28,
     "metadata": {},
     "output_type": "execute_result"
    }
   ],
   "source": [
    "features.shape, target.shape"
   ]
  },
  {
   "cell_type": "markdown",
   "id": "7b553f9d-e8f3-4230-9917-bc1f0133ac0a",
   "metadata": {},
   "source": [
    "from collections import Counter"
   ]
  },
  {
   "cell_type": "code",
   "execution_count": 20,
   "id": "3abd5b11-5183-41f1-b8ab-c0ddd78a236b",
   "metadata": {
    "tags": []
   },
   "outputs": [],
   "source": [
    "from collections import Counter"
   ]
  },
  {
   "cell_type": "code",
   "execution_count": 29,
   "id": "bec959d8-5377-419a-98e7-e7a006ee4702",
   "metadata": {
    "tags": []
   },
   "outputs": [
    {
     "data": {
      "text/plain": [
       "Counter({0: 300, 1: 700})"
      ]
     },
     "execution_count": 29,
     "metadata": {},
     "output_type": "execute_result"
    }
   ],
   "source": [
    "Counter(target)"
   ]
  },
  {
   "cell_type": "code",
   "execution_count": 30,
   "id": "80062399-9ba9-498e-a82c-b4080b91004a",
   "metadata": {
    "tags": []
   },
   "outputs": [],
   "source": [
    "tomekLinks = TomekLinks() #인스턴스화\n",
    "features_resaple, target_resample = tomekLinks.fit_resample(features, target) #학습"
   ]
  },
  {
   "cell_type": "code",
   "execution_count": 31,
   "id": "04feae1d-d826-4ec8-bba6-b5325c99a20d",
   "metadata": {
    "tags": []
   },
   "outputs": [
    {
     "data": {
      "text/plain": [
       "((996, 20), (996,))"
      ]
     },
     "execution_count": 31,
     "metadata": {},
     "output_type": "execute_result"
    }
   ],
   "source": [
    "features_resaple.shape, target_resample.shape"
   ]
  },
  {
   "cell_type": "code",
   "execution_count": 32,
   "id": "6c718cf3-455e-4ee4-9738-e5a7d1fbabd9",
   "metadata": {
    "tags": []
   },
   "outputs": [
    {
     "data": {
      "text/plain": [
       "Counter({0: 300, 1: 696})"
      ]
     },
     "execution_count": 32,
     "metadata": {},
     "output_type": "execute_result"
    }
   ],
   "source": [
    "Counter(target_resample)"
   ]
  },
  {
   "cell_type": "markdown",
   "id": "4b4ffd02-671e-490b-a47a-748f005ed3d1",
   "metadata": {},
   "source": [
    "### Over Sampling : SMOTE\n",
    "- 데이터의 비율이 많은 쪽으로 한쪽의 데이터를 늘려주는 기법\n",
    "- (Random Over Sampling / SMOTE / ADASYN ...)\n",
    "- 가상의 데이터를 넣는 작업이기에 위험함."
   ]
  },
  {
   "cell_type": "code",
   "execution_count": 33,
   "id": "45647fc6-1229-4c97-9015-fc840e2e4a38",
   "metadata": {
    "tags": []
   },
   "outputs": [],
   "source": [
    "from imblearn.over_sampling import SMOTE"
   ]
  },
  {
   "cell_type": "code",
   "execution_count": 36,
   "id": "4d2965e1-bfef-4131-b7e6-baa7629fbe5c",
   "metadata": {
    "tags": []
   },
   "outputs": [
    {
     "data": {
      "text/plain": [
       "((1400, 20), (1400,))"
      ]
     },
     "execution_count": 36,
     "metadata": {},
     "output_type": "execute_result"
    }
   ],
   "source": [
    "smote = SMOTE() #인스턴스화\n",
    "features_over_sampling, target_over_sampling = smote.fit_resample(features, target) # 학습\n",
    "features_over_sampling.shape, target_over_sampling.shape"
   ]
  },
  {
   "cell_type": "code",
   "execution_count": 35,
   "id": "e8837fa7-d749-4640-8a65-94fd58856d19",
   "metadata": {
    "tags": []
   },
   "outputs": [
    {
     "data": {
      "text/plain": [
       "Counter({0: 700, 1: 700})"
      ]
     },
     "execution_count": 35,
     "metadata": {},
     "output_type": "execute_result"
    }
   ],
   "source": [
    "Counter(target_over_sampling)"
   ]
  },
  {
   "cell_type": "code",
   "execution_count": null,
   "id": "a1ec28ab-3d03-47bd-9d4a-f30848549836",
   "metadata": {},
   "outputs": [],
   "source": []
  }
 ],
 "metadata": {
  "kernelspec": {
   "display_name": "Python 3 (ipykernel)",
   "language": "python",
   "name": "python3"
  },
  "language_info": {
   "codemirror_mode": {
    "name": "ipython",
    "version": 3
   },
   "file_extension": ".py",
   "mimetype": "text/x-python",
   "name": "python",
   "nbconvert_exporter": "python",
   "pygments_lexer": "ipython3",
   "version": "3.11.3"
  }
 },
 "nbformat": 4,
 "nbformat_minor": 5
}
