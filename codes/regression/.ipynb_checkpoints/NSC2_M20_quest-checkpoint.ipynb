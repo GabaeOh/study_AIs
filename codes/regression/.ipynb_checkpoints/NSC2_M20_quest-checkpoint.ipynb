{
 "cells": [
  {
   "cell_type": "markdown",
   "id": "83d52f2d-71e7-4314-9f53-2b3d20e41120",
   "metadata": {},
   "source": [
    "## QUEST\n",
    "- db_NHIS.NSC2_M20 in mongodb\n",
    "- 연속형 타입 3가지 선택(target, label), csv 저장\n",
    "- 전처리, 학습, 평가, 예측 과정 진행"
   ]
  },
  {
   "cell_type": "code",
   "execution_count": 11,
   "id": "4fa35153-228a-4c5b-9a90-5c9511eca9d5",
   "metadata": {
    "tags": []
   },
   "outputs": [],
   "source": [
    "import pymongo as mg\n",
    "import pandas as pd"
   ]
  },
  {
   "cell_type": "markdown",
   "id": "9c83f34a-371d-43f0-bc92-4d5f40e20816",
   "metadata": {},
   "source": [
    "#### mogoDB에서 파일 SELECT"
   ]
  },
  {
   "cell_type": "code",
   "execution_count": 3,
   "id": "b1d2df75-c623-4044-a5c3-0d85105ab36d",
   "metadata": {
    "tags": []
   },
   "outputs": [],
   "source": [
    "client = mg.MongoClient(host='mongodb://localhost:27017')\n",
    "database = client['db_NHIS']\n",
    "collection = database['NSC2_M20']\n",
    "cursor = collection.find({})\n",
    "list_M20 = list(cursor)\n",
    "df_M20 = pd.DataFrame(list_M20)"
   ]
  },
  {
   "cell_type": "code",
   "execution_count": 4,
   "id": "0b69f82c-2449-4767-9132-dd4102ee4da7",
   "metadata": {
    "tags": []
   },
   "outputs": [
    {
     "data": {
      "text/html": [
       "<div>\n",
       "<style scoped>\n",
       "    .dataframe tbody tr th:only-of-type {\n",
       "        vertical-align: middle;\n",
       "    }\n",
       "\n",
       "    .dataframe tbody tr th {\n",
       "        vertical-align: top;\n",
       "    }\n",
       "\n",
       "    .dataframe thead th {\n",
       "        text-align: right;\n",
       "    }\n",
       "</style>\n",
       "<table border=\"1\" class=\"dataframe\">\n",
       "  <thead>\n",
       "    <tr style=\"text-align: right;\">\n",
       "      <th></th>\n",
       "      <th>_id</th>\n",
       "      <th>RN_INDI</th>\n",
       "      <th>RN_KEY</th>\n",
       "      <th>RN_INST</th>\n",
       "      <th>MDCARE_STRT_DT</th>\n",
       "      <th>FORM_CD</th>\n",
       "      <th>MCARE_SUBJ_CD</th>\n",
       "      <th>SICK_SYM1</th>\n",
       "      <th>OFIJ_TYPE</th>\n",
       "      <th>OPRTN_YN</th>\n",
       "      <th>...</th>\n",
       "      <th>MCARE_RSLT_TYPE</th>\n",
       "      <th>EDC_ADD_RT</th>\n",
       "      <th>ED_RC_TOT_AMT</th>\n",
       "      <th>EDC_SBA</th>\n",
       "      <th>EDC_INSUR_BRDN_AMT</th>\n",
       "      <th>STD_YYYY</th>\n",
       "      <th>HSPTZ_PATH_TYPE</th>\n",
       "      <th>SICK_SYM2</th>\n",
       "      <th>SPCF_SYM_TYPE</th>\n",
       "      <th>FST_HSPTZ_DT</th>\n",
       "    </tr>\n",
       "  </thead>\n",
       "  <tbody>\n",
       "    <tr>\n",
       "      <th>0</th>\n",
       "      <td>64e5bba4cea655f0a39a0961</td>\n",
       "      <td>429577</td>\n",
       "      <td>2002070826167</td>\n",
       "      <td>101494</td>\n",
       "      <td>20020729</td>\n",
       "      <td>3</td>\n",
       "      <td>15</td>\n",
       "      <td>B07</td>\n",
       "      <td>0</td>\n",
       "      <td>0</td>\n",
       "      <td>...</td>\n",
       "      <td>5.0</td>\n",
       "      <td>0.15</td>\n",
       "      <td>10590</td>\n",
       "      <td>3000</td>\n",
       "      <td>7590</td>\n",
       "      <td>2002</td>\n",
       "      <td>NaN</td>\n",
       "      <td>NaN</td>\n",
       "      <td>NaN</td>\n",
       "      <td>NaN</td>\n",
       "    </tr>\n",
       "    <tr>\n",
       "      <th>1</th>\n",
       "      <td>64e5bba4cea655f0a39a0962</td>\n",
       "      <td>362517</td>\n",
       "      <td>2002070388352</td>\n",
       "      <td>82780</td>\n",
       "      <td>20020729</td>\n",
       "      <td>3</td>\n",
       "      <td>14</td>\n",
       "      <td>B354</td>\n",
       "      <td>NaN</td>\n",
       "      <td>0</td>\n",
       "      <td>...</td>\n",
       "      <td>5.0</td>\n",
       "      <td>0.15</td>\n",
       "      <td>10590</td>\n",
       "      <td>3000</td>\n",
       "      <td>7590</td>\n",
       "      <td>2002</td>\n",
       "      <td>NaN</td>\n",
       "      <td>NaN</td>\n",
       "      <td>NaN</td>\n",
       "      <td>NaN</td>\n",
       "    </tr>\n",
       "  </tbody>\n",
       "</table>\n",
       "<p>2 rows × 23 columns</p>\n",
       "</div>"
      ],
      "text/plain": [
       "                        _id  RN_INDI         RN_KEY  RN_INST  MDCARE_STRT_DT  \\\n",
       "0  64e5bba4cea655f0a39a0961   429577  2002070826167   101494        20020729   \n",
       "1  64e5bba4cea655f0a39a0962   362517  2002070388352    82780        20020729   \n",
       "\n",
       "   FORM_CD  MCARE_SUBJ_CD SICK_SYM1 OFIJ_TYPE  OPRTN_YN  ...  MCARE_RSLT_TYPE  \\\n",
       "0        3             15       B07         0         0  ...              5.0   \n",
       "1        3             14      B354       NaN         0  ...              5.0   \n",
       "\n",
       "   EDC_ADD_RT  ED_RC_TOT_AMT  EDC_SBA  EDC_INSUR_BRDN_AMT  STD_YYYY  \\\n",
       "0        0.15          10590     3000                7590      2002   \n",
       "1        0.15          10590     3000                7590      2002   \n",
       "\n",
       "   HSPTZ_PATH_TYPE  SICK_SYM2  SPCF_SYM_TYPE  FST_HSPTZ_DT  \n",
       "0              NaN        NaN            NaN           NaN  \n",
       "1              NaN        NaN            NaN           NaN  \n",
       "\n",
       "[2 rows x 23 columns]"
      ]
     },
     "execution_count": 4,
     "metadata": {},
     "output_type": "execute_result"
    }
   ],
   "source": [
    "df_M20[:2]"
   ]
  },
  {
   "cell_type": "code",
   "execution_count": 7,
   "id": "8ab6d4ea-37ea-4f1f-9c03-47b9687161b7",
   "metadata": {
    "tags": []
   },
   "outputs": [
    {
     "name": "stdout",
     "output_type": "stream",
     "text": [
      "<class 'pandas.core.frame.DataFrame'>\n",
      "RangeIndex: 137163 entries, 0 to 137162\n",
      "Data columns (total 23 columns):\n",
      " #   Column              Non-Null Count   Dtype  \n",
      "---  ------              --------------   -----  \n",
      " 0   _id                 137163 non-null  object \n",
      " 1   RN_INDI             137163 non-null  int64  \n",
      " 2   RN_KEY              137163 non-null  int64  \n",
      " 3   RN_INST             137163 non-null  int64  \n",
      " 4   MDCARE_STRT_DT      137163 non-null  int64  \n",
      " 5   FORM_CD             137163 non-null  int64  \n",
      " 6   MCARE_SUBJ_CD       137163 non-null  int64  \n",
      " 7   SICK_SYM1           137163 non-null  object \n",
      " 8   OFIJ_TYPE           134428 non-null  object \n",
      " 9   OPRTN_YN            137163 non-null  int64  \n",
      " 10  MDCARE_DD_CNT       137163 non-null  int64  \n",
      " 11  VSHSP_DD_CNT        137163 non-null  int64  \n",
      " 12  TOT_PRSC_DD_CNT     137163 non-null  int64  \n",
      " 13  MCARE_RSLT_TYPE     133958 non-null  float64\n",
      " 14  EDC_ADD_RT          137163 non-null  float64\n",
      " 15  ED_RC_TOT_AMT       137163 non-null  int64  \n",
      " 16  EDC_SBA             137163 non-null  int64  \n",
      " 17  EDC_INSUR_BRDN_AMT  137163 non-null  int64  \n",
      " 18  STD_YYYY            137163 non-null  int64  \n",
      " 19  HSPTZ_PATH_TYPE     4201 non-null    float64\n",
      " 20  SICK_SYM2           95774 non-null   object \n",
      " 21  SPCF_SYM_TYPE       3528 non-null    object \n",
      " 22  FST_HSPTZ_DT        1040 non-null    float64\n",
      "dtypes: float64(4), int64(14), object(5)\n",
      "memory usage: 24.1+ MB\n"
     ]
    }
   ],
   "source": [
    "df_M20.info()"
   ]
  },
  {
   "cell_type": "code",
   "execution_count": 8,
   "id": "95ab7a7e-84b4-4bfe-97f2-7864c55102e2",
   "metadata": {
    "tags": []
   },
   "outputs": [
    {
     "data": {
      "text/plain": [
       "Index(['_id', 'RN_INDI', 'RN_KEY', 'RN_INST', 'MDCARE_STRT_DT', 'FORM_CD',\n",
       "       'MCARE_SUBJ_CD', 'SICK_SYM1', 'OFIJ_TYPE', 'OPRTN_YN', 'MDCARE_DD_CNT',\n",
       "       'VSHSP_DD_CNT', 'TOT_PRSC_DD_CNT', 'MCARE_RSLT_TYPE', 'EDC_ADD_RT',\n",
       "       'ED_RC_TOT_AMT', 'EDC_SBA', 'EDC_INSUR_BRDN_AMT', 'STD_YYYY',\n",
       "       'HSPTZ_PATH_TYPE', 'SICK_SYM2', 'SPCF_SYM_TYPE', 'FST_HSPTZ_DT'],\n",
       "      dtype='object')"
      ]
     },
     "execution_count": 8,
     "metadata": {},
     "output_type": "execute_result"
    }
   ],
   "source": [
    "df_M20.columns"
   ]
  },
  {
   "cell_type": "code",
   "execution_count": 9,
   "id": "0580c685-5c7a-4a9e-9695-06b8c948fe93",
   "metadata": {
    "tags": []
   },
   "outputs": [],
   "source": [
    "df_M20 = df_M20[['MDCARE_STRT_DT','VSHSP_DD_CNT','EDC_INSUR_BRDN_AMT']] "
   ]
  },
  {
   "cell_type": "code",
   "execution_count": 10,
   "id": "9276b84b-8443-4ac2-98ea-48f2b484cb9a",
   "metadata": {
    "tags": []
   },
   "outputs": [],
   "source": [
    "df_M20.to_csv('../../datasets/NSC2_M20.csv')"
   ]
  },
  {
   "cell_type": "markdown",
   "id": "ea1fdbaa-78f9-4b30-9bed-24d2d857612d",
   "metadata": {},
   "source": [
    "#### 추출한 컬럼들을 토대로 지도학습 진행 "
   ]
  },
  {
   "cell_type": "markdown",
   "id": "b123d403-c259-4fb5-8061-e48eb0222f1c",
   "metadata": {},
   "source": [
    "## 지도학습(Supervised Learning)\n",
    "- 목표변수(target, Y) 존재하는 학습법 \n",
    "- 설명변수 "
   ]
  },
  {
   "cell_type": "code",
   "execution_count": 12,
   "id": "eb164261-376f-450b-8498-8486485e6f66",
   "metadata": {
    "tags": []
   },
   "outputs": [
    {
     "data": {
      "text/html": [
       "<div>\n",
       "<style scoped>\n",
       "    .dataframe tbody tr th:only-of-type {\n",
       "        vertical-align: middle;\n",
       "    }\n",
       "\n",
       "    .dataframe tbody tr th {\n",
       "        vertical-align: top;\n",
       "    }\n",
       "\n",
       "    .dataframe thead th {\n",
       "        text-align: right;\n",
       "    }\n",
       "</style>\n",
       "<table border=\"1\" class=\"dataframe\">\n",
       "  <thead>\n",
       "    <tr style=\"text-align: right;\">\n",
       "      <th></th>\n",
       "      <th>Unnamed: 0</th>\n",
       "      <th>MDCARE_STRT_DT</th>\n",
       "      <th>VSHSP_DD_CNT</th>\n",
       "      <th>EDC_INSUR_BRDN_AMT</th>\n",
       "    </tr>\n",
       "  </thead>\n",
       "  <tbody>\n",
       "    <tr>\n",
       "      <th>0</th>\n",
       "      <td>0</td>\n",
       "      <td>20020729</td>\n",
       "      <td>1</td>\n",
       "      <td>7590</td>\n",
       "    </tr>\n",
       "    <tr>\n",
       "      <th>1</th>\n",
       "      <td>1</td>\n",
       "      <td>20020729</td>\n",
       "      <td>1</td>\n",
       "      <td>7590</td>\n",
       "    </tr>\n",
       "  </tbody>\n",
       "</table>\n",
       "</div>"
      ],
      "text/plain": [
       "   Unnamed: 0  MDCARE_STRT_DT  VSHSP_DD_CNT  EDC_INSUR_BRDN_AMT\n",
       "0           0        20020729             1                7590\n",
       "1           1        20020729             1                7590"
      ]
     },
     "execution_count": 12,
     "metadata": {},
     "output_type": "execute_result"
    }
   ],
   "source": [
    "df_M20 = pd.read_csv('../../datasets/NSC2_M20.csv')\n",
    "df_M20[:2]"
   ]
  },
  {
   "cell_type": "markdown",
   "id": "20390bdc-32ca-40df-814b-26573d44b15f",
   "metadata": {},
   "source": [
    "### 목표변수 - 연속형\n",
    "- 목표변수 : MDCARE_STRT_DT\n",
    "- 설명변수 : VSHSP_DD_CNT, EDC_INSUR_BRDN_AMT"
   ]
  },
  {
   "cell_type": "code",
   "execution_count": 29,
   "id": "21937026-d491-4a85-a005-e0469e0db718",
   "metadata": {
    "tags": []
   },
   "outputs": [
    {
     "name": "stdout",
     "output_type": "stream",
     "text": [
      "<class 'pandas.core.frame.DataFrame'>\n",
      "RangeIndex: 137163 entries, 0 to 137162\n",
      "Data columns (total 4 columns):\n",
      " #   Column              Non-Null Count   Dtype\n",
      "---  ------              --------------   -----\n",
      " 0   Unnamed: 0          137163 non-null  int64\n",
      " 1   MDCARE_STRT_DT      137163 non-null  int64\n",
      " 2   VSHSP_DD_CNT        137163 non-null  int64\n",
      " 3   EDC_INSUR_BRDN_AMT  137163 non-null  int64\n",
      "dtypes: int64(4)\n",
      "memory usage: 4.2 MB\n"
     ]
    }
   ],
   "source": [
    "df_M20.info()"
   ]
  },
  {
   "cell_type": "markdown",
   "id": "77864f25-4d32-4eb6-8681-feba9f69fda9",
   "metadata": {},
   "source": [
    "### Pre-Processing (전처리과정)"
   ]
  },
  {
   "cell_type": "markdown",
   "id": "e30adb76-9c1d-44c8-ac79-5c102a45a920",
   "metadata": {},
   "source": [
    "##### 목표변수와 설명변수 추출"
   ]
  },
  {
   "cell_type": "code",
   "execution_count": 15,
   "id": "516796d8-a68b-4cb9-b520-fd36b70b6d47",
   "metadata": {
    "tags": []
   },
   "outputs": [
    {
     "data": {
      "text/plain": [
       "Unnamed: 0            0\n",
       "MDCARE_STRT_DT        0\n",
       "VSHSP_DD_CNT          0\n",
       "EDC_INSUR_BRDN_AMT    0\n",
       "dtype: int64"
      ]
     },
     "execution_count": 15,
     "metadata": {},
     "output_type": "execute_result"
    }
   ],
   "source": [
    "df_M20.isnull().sum()"
   ]
  },
  {
   "cell_type": "markdown",
   "id": "487af6c3-05d0-475e-b577-3cfbfcd96a00",
   "metadata": {},
   "source": [
    "##### Structured data \n",
    "- 목표변수(**target**, Y)\n",
    "- 설명변수(**label**, X)\n",
    "- 목표변수와 설명변수 분리 "
   ]
  },
  {
   "cell_type": "code",
   "execution_count": 16,
   "id": "ff45b128-7d35-4faf-a590-d25c748e38dc",
   "metadata": {
    "tags": []
   },
   "outputs": [
    {
     "data": {
      "text/plain": [
       "((137163,), (137163, 2))"
      ]
     },
     "execution_count": 16,
     "metadata": {},
     "output_type": "execute_result"
    }
   ],
   "source": [
    "target = df_M20['MDCARE_STRT_DT']\n",
    "labels = df_M20[['VSHSP_DD_CNT','EDC_INSUR_BRDN_AMT']]\n",
    "target.shape, labels.shape"
   ]
  },
  {
   "cell_type": "markdown",
   "id": "582f1662-aa67-40fd-a465-df3c079e6942",
   "metadata": {},
   "source": [
    "### 모델(알고리즘) 학습"
   ]
  },
  {
   "cell_type": "markdown",
   "id": "3dcc1c71-775c-47d7-812d-4ef53e713b8a",
   "metadata": {},
   "source": [
    "#### 모델 학습 \n",
    "- target datatype 종속적 "
   ]
  },
  {
   "cell_type": "code",
   "execution_count": 17,
   "id": "8d0bee60-3135-4d96-a7e5-fa846ed841b5",
   "metadata": {
    "tags": []
   },
   "outputs": [],
   "source": [
    "from sklearn.linear_model import LinearRegression"
   ]
  },
  {
   "cell_type": "code",
   "execution_count": 18,
   "id": "d16b3041-eac5-4957-9424-4c8271658399",
   "metadata": {
    "tags": []
   },
   "outputs": [
    {
     "data": {
      "text/html": [
       "<style>#sk-container-id-1 {color: black;background-color: white;}#sk-container-id-1 pre{padding: 0;}#sk-container-id-1 div.sk-toggleable {background-color: white;}#sk-container-id-1 label.sk-toggleable__label {cursor: pointer;display: block;width: 100%;margin-bottom: 0;padding: 0.3em;box-sizing: border-box;text-align: center;}#sk-container-id-1 label.sk-toggleable__label-arrow:before {content: \"▸\";float: left;margin-right: 0.25em;color: #696969;}#sk-container-id-1 label.sk-toggleable__label-arrow:hover:before {color: black;}#sk-container-id-1 div.sk-estimator:hover label.sk-toggleable__label-arrow:before {color: black;}#sk-container-id-1 div.sk-toggleable__content {max-height: 0;max-width: 0;overflow: hidden;text-align: left;background-color: #f0f8ff;}#sk-container-id-1 div.sk-toggleable__content pre {margin: 0.2em;color: black;border-radius: 0.25em;background-color: #f0f8ff;}#sk-container-id-1 input.sk-toggleable__control:checked~div.sk-toggleable__content {max-height: 200px;max-width: 100%;overflow: auto;}#sk-container-id-1 input.sk-toggleable__control:checked~label.sk-toggleable__label-arrow:before {content: \"▾\";}#sk-container-id-1 div.sk-estimator input.sk-toggleable__control:checked~label.sk-toggleable__label {background-color: #d4ebff;}#sk-container-id-1 div.sk-label input.sk-toggleable__control:checked~label.sk-toggleable__label {background-color: #d4ebff;}#sk-container-id-1 input.sk-hidden--visually {border: 0;clip: rect(1px 1px 1px 1px);clip: rect(1px, 1px, 1px, 1px);height: 1px;margin: -1px;overflow: hidden;padding: 0;position: absolute;width: 1px;}#sk-container-id-1 div.sk-estimator {font-family: monospace;background-color: #f0f8ff;border: 1px dotted black;border-radius: 0.25em;box-sizing: border-box;margin-bottom: 0.5em;}#sk-container-id-1 div.sk-estimator:hover {background-color: #d4ebff;}#sk-container-id-1 div.sk-parallel-item::after {content: \"\";width: 100%;border-bottom: 1px solid gray;flex-grow: 1;}#sk-container-id-1 div.sk-label:hover label.sk-toggleable__label {background-color: #d4ebff;}#sk-container-id-1 div.sk-serial::before {content: \"\";position: absolute;border-left: 1px solid gray;box-sizing: border-box;top: 0;bottom: 0;left: 50%;z-index: 0;}#sk-container-id-1 div.sk-serial {display: flex;flex-direction: column;align-items: center;background-color: white;padding-right: 0.2em;padding-left: 0.2em;position: relative;}#sk-container-id-1 div.sk-item {position: relative;z-index: 1;}#sk-container-id-1 div.sk-parallel {display: flex;align-items: stretch;justify-content: center;background-color: white;position: relative;}#sk-container-id-1 div.sk-item::before, #sk-container-id-1 div.sk-parallel-item::before {content: \"\";position: absolute;border-left: 1px solid gray;box-sizing: border-box;top: 0;bottom: 0;left: 50%;z-index: -1;}#sk-container-id-1 div.sk-parallel-item {display: flex;flex-direction: column;z-index: 1;position: relative;background-color: white;}#sk-container-id-1 div.sk-parallel-item:first-child::after {align-self: flex-end;width: 50%;}#sk-container-id-1 div.sk-parallel-item:last-child::after {align-self: flex-start;width: 50%;}#sk-container-id-1 div.sk-parallel-item:only-child::after {width: 0;}#sk-container-id-1 div.sk-dashed-wrapped {border: 1px dashed gray;margin: 0 0.4em 0.5em 0.4em;box-sizing: border-box;padding-bottom: 0.4em;background-color: white;}#sk-container-id-1 div.sk-label label {font-family: monospace;font-weight: bold;display: inline-block;line-height: 1.2em;}#sk-container-id-1 div.sk-label-container {text-align: center;}#sk-container-id-1 div.sk-container {/* jupyter's `normalize.less` sets `[hidden] { display: none; }` but bootstrap.min.css set `[hidden] { display: none !important; }` so we also need the `!important` here to be able to override the default hidden behavior on the sphinx rendered scikit-learn.org. See: https://github.com/scikit-learn/scikit-learn/issues/21755 */display: inline-block !important;position: relative;}#sk-container-id-1 div.sk-text-repr-fallback {display: none;}</style><div id=\"sk-container-id-1\" class=\"sk-top-container\"><div class=\"sk-text-repr-fallback\"><pre>LinearRegression()</pre><b>In a Jupyter environment, please rerun this cell to show the HTML representation or trust the notebook. <br />On GitHub, the HTML representation is unable to render, please try loading this page with nbviewer.org.</b></div><div class=\"sk-container\" hidden><div class=\"sk-item\"><div class=\"sk-estimator sk-toggleable\"><input class=\"sk-toggleable__control sk-hidden--visually\" id=\"sk-estimator-id-1\" type=\"checkbox\" checked><label for=\"sk-estimator-id-1\" class=\"sk-toggleable__label sk-toggleable__label-arrow\">LinearRegression</label><div class=\"sk-toggleable__content\"><pre>LinearRegression()</pre></div></div></div></div></div>"
      ],
      "text/plain": [
       "LinearRegression()"
      ]
     },
     "execution_count": 18,
     "metadata": {},
     "output_type": "execute_result"
    }
   ],
   "source": [
    "model = LinearRegression()\n",
    "model.fit(labels, target)"
   ]
  },
  {
   "cell_type": "markdown",
   "id": "b3b09ecd-a94f-437e-9303-49e57f22c7d8",
   "metadata": {},
   "source": [
    "#### 평가"
   ]
  },
  {
   "cell_type": "code",
   "execution_count": 21,
   "id": "abf008c9-2dbc-43cb-a6bf-ec0e68cd626d",
   "metadata": {
    "tags": []
   },
   "outputs": [
    {
     "data": {
      "text/plain": [
       "array([20099489.74079853, 20099489.74079853, 20099489.74079853, ...,\n",
       "       20085474.05584997, 20073522.7100947 , 20028511.97992517])"
      ]
     },
     "execution_count": 21,
     "metadata": {},
     "output_type": "execute_result"
    }
   ],
   "source": [
    "model.predict(labels) ## 나온 결과값이 target의 값"
   ]
  },
  {
   "cell_type": "code",
   "execution_count": 23,
   "id": "0b933210-a82a-4d0d-b73b-d616fd246fe0",
   "metadata": {
    "tags": []
   },
   "outputs": [
    {
     "data": {
      "text/plain": [
       "137163"
      ]
     },
     "execution_count": 23,
     "metadata": {},
     "output_type": "execute_result"
    }
   ],
   "source": [
    "target_predict = model.predict(labels) \n",
    "len(target_predict)"
   ]
  },
  {
   "cell_type": "code",
   "execution_count": 24,
   "id": "b348266a-4401-4192-9ad1-e12cb11f78be",
   "metadata": {
    "tags": []
   },
   "outputs": [
    {
     "data": {
      "text/plain": [
       "0.019125218064909077"
      ]
     },
     "execution_count": 24,
     "metadata": {},
     "output_type": "execute_result"
    }
   ],
   "source": [
    "from sklearn.metrics import r2_score\n",
    "r2_score(target, target_predict)  ## 값을 뽑기위한 예측 "
   ]
  },
  {
   "cell_type": "markdown",
   "id": "3ece67bd-6ad7-4e98-8f08-ba7cc7084842",
   "metadata": {},
   "source": [
    "#### 미래예측(서비스 개시)"
   ]
  },
  {
   "cell_type": "code",
   "execution_count": 25,
   "id": "791e153a-bcd5-4401-9e6e-1eb89401afc0",
   "metadata": {
    "tags": []
   },
   "outputs": [
    {
     "data": {
      "text/html": [
       "<div>\n",
       "<style scoped>\n",
       "    .dataframe tbody tr th:only-of-type {\n",
       "        vertical-align: middle;\n",
       "    }\n",
       "\n",
       "    .dataframe tbody tr th {\n",
       "        vertical-align: top;\n",
       "    }\n",
       "\n",
       "    .dataframe thead th {\n",
       "        text-align: right;\n",
       "    }\n",
       "</style>\n",
       "<table border=\"1\" class=\"dataframe\">\n",
       "  <thead>\n",
       "    <tr style=\"text-align: right;\">\n",
       "      <th></th>\n",
       "      <th>Unnamed: 0</th>\n",
       "      <th>MDCARE_STRT_DT</th>\n",
       "      <th>VSHSP_DD_CNT</th>\n",
       "      <th>EDC_INSUR_BRDN_AMT</th>\n",
       "    </tr>\n",
       "  </thead>\n",
       "  <tbody>\n",
       "    <tr>\n",
       "      <th>100</th>\n",
       "      <td>100</td>\n",
       "      <td>20020419</td>\n",
       "      <td>1</td>\n",
       "      <td>5160</td>\n",
       "    </tr>\n",
       "    <tr>\n",
       "      <th>101</th>\n",
       "      <td>101</td>\n",
       "      <td>20020419</td>\n",
       "      <td>1</td>\n",
       "      <td>5160</td>\n",
       "    </tr>\n",
       "    <tr>\n",
       "      <th>102</th>\n",
       "      <td>102</td>\n",
       "      <td>20020724</td>\n",
       "      <td>1</td>\n",
       "      <td>5160</td>\n",
       "    </tr>\n",
       "    <tr>\n",
       "      <th>103</th>\n",
       "      <td>103</td>\n",
       "      <td>20020730</td>\n",
       "      <td>1</td>\n",
       "      <td>5160</td>\n",
       "    </tr>\n",
       "    <tr>\n",
       "      <th>104</th>\n",
       "      <td>104</td>\n",
       "      <td>20020622</td>\n",
       "      <td>1</td>\n",
       "      <td>5160</td>\n",
       "    </tr>\n",
       "  </tbody>\n",
       "</table>\n",
       "</div>"
      ],
      "text/plain": [
       "     Unnamed: 0  MDCARE_STRT_DT  VSHSP_DD_CNT  EDC_INSUR_BRDN_AMT\n",
       "100         100        20020419             1                5160\n",
       "101         101        20020419             1                5160\n",
       "102         102        20020724             1                5160\n",
       "103         103        20020730             1                5160\n",
       "104         104        20020622             1                5160"
      ]
     },
     "execution_count": 25,
     "metadata": {},
     "output_type": "execute_result"
    }
   ],
   "source": [
    "df_M20[100:105]"
   ]
  },
  {
   "cell_type": "code",
   "execution_count": 26,
   "id": "613a5bf6-dbed-485f-9554-f436ebee1c1a",
   "metadata": {
    "tags": []
   },
   "outputs": [],
   "source": [
    "# 1, 5160 : 예측하기 위해 임의의 값을 입력함\n",
    "temp_label = [[1, 5160]]"
   ]
  },
  {
   "cell_type": "code",
   "execution_count": 31,
   "id": "0c877ab6-184b-4840-be08-820d7c6e7d01",
   "metadata": {
    "tags": []
   },
   "outputs": [
    {
     "name": "stderr",
     "output_type": "stream",
     "text": [
      "C:\\Users\\02-19\\anaconda3\\Lib\\site-packages\\sklearn\\base.py:439: UserWarning: X does not have valid feature names, but LinearRegression was fitted with feature names\n",
      "  warnings.warn(\n"
     ]
    },
    {
     "data": {
      "text/plain": [
       "array([20099457.54221297])"
      ]
     },
     "execution_count": 31,
     "metadata": {},
     "output_type": "execute_result"
    }
   ],
   "source": [
    "model.predict(temp_label)\n",
    "\n",
    "## 실제값 : 20020419 / 예측의 값 : 20099457.5422\n",
    "## 연속형인 데이터 자체가 실제로는 진료코드여서 예측의 의미가 없다는 것을 확인함. "
   ]
  },
  {
   "cell_type": "code",
   "execution_count": null,
   "id": "1e345ad9-d10b-4438-be8d-47546a531bb4",
   "metadata": {},
   "outputs": [],
   "source": []
  }
 ],
 "metadata": {
  "kernelspec": {
   "display_name": "Python 3 (ipykernel)",
   "language": "python",
   "name": "python3"
  },
  "language_info": {
   "codemirror_mode": {
    "name": "ipython",
    "version": 3
   },
   "file_extension": ".py",
   "mimetype": "text/x-python",
   "name": "python",
   "nbconvert_exporter": "python",
   "pygments_lexer": "ipython3",
   "version": "3.11.3"
  }
 },
 "nbformat": 4,
 "nbformat_minor": 5
}
